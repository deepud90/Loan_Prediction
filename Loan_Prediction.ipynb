{
 "cells": [
  {
   "cell_type": "markdown",
   "metadata": {},
   "source": [
    "This project deals with a dataset of the loan applications made to a housing finance company in the past, along with the details of their approval/rejection. The plan is to automate the process of loan approval, and for this we have been asked to  use the given data to train an appropriate predictive algorithm. In this work, we shall explore the dataset in detail, clean it, add new features, and do some predictions using machine learning. \n",
    "\n",
    "More details of the problem, including the problem description and dataset can be obtained from the link below:\n",
    "https://datahack.analyticsvidhya.com/contest/practice-problem-loan-prediction-iii/\n",
    "The given dataset contains a training and test set. We are expected to train the models on the training set, and upload the predictions made on the test set"
   ]
  },
  {
   "cell_type": "code",
   "execution_count": 1061,
   "metadata": {
    "collapsed": false
   },
   "outputs": [],
   "source": [
    "import pandas as pd\n",
    "import numpy as np\n",
    "import matplotlib.pyplot as plt\n",
    "import seaborn as sns\n",
    "import warnings\n",
    "from IPython.display import display\n",
    "from sklearn.model_selection import KFold\n",
    "from sklearn import metrics\n",
    "warnings.filterwarnings('ignore')\n"
   ]
  },
  {
   "cell_type": "code",
   "execution_count": 1062,
   "metadata": {
    "collapsed": false
   },
   "outputs": [],
   "source": [
    "# Load the data set\n",
    "train = pd.read_csv(\"train.csv\")\n"
   ]
  },
  {
   "cell_type": "markdown",
   "metadata": {},
   "source": [
    "Once the dataset is loaded, we can take a look at variables in it"
   ]
  },
  {
   "cell_type": "code",
   "execution_count": 1149,
   "metadata": {
    "collapsed": false
   },
   "outputs": [
    {
     "data": {
      "text/html": [
       "<div>\n",
       "<table border=\"1\" class=\"dataframe\">\n",
       "  <thead>\n",
       "    <tr style=\"text-align: right;\">\n",
       "      <th></th>\n",
       "      <th>Loan_ID</th>\n",
       "      <th>Gender</th>\n",
       "      <th>Married</th>\n",
       "      <th>Dependents</th>\n",
       "      <th>Education</th>\n",
       "      <th>Self_Employed</th>\n",
       "      <th>ApplicantIncome</th>\n",
       "      <th>CoapplicantIncome</th>\n",
       "      <th>LoanAmount</th>\n",
       "      <th>Loan_Amount_Term</th>\n",
       "      <th>Credit_History</th>\n",
       "      <th>Property_Area</th>\n",
       "      <th>Loan_Status</th>\n",
       "    </tr>\n",
       "  </thead>\n",
       "  <tbody>\n",
       "    <tr>\n",
       "      <th>0</th>\n",
       "      <td>LP001002</td>\n",
       "      <td>Male</td>\n",
       "      <td>No</td>\n",
       "      <td>0</td>\n",
       "      <td>Graduate</td>\n",
       "      <td>No</td>\n",
       "      <td>5849</td>\n",
       "      <td>0.0</td>\n",
       "      <td>NaN</td>\n",
       "      <td>360.0</td>\n",
       "      <td>1.0</td>\n",
       "      <td>Urban</td>\n",
       "      <td>Y</td>\n",
       "    </tr>\n",
       "    <tr>\n",
       "      <th>1</th>\n",
       "      <td>LP001003</td>\n",
       "      <td>Male</td>\n",
       "      <td>Yes</td>\n",
       "      <td>1</td>\n",
       "      <td>Graduate</td>\n",
       "      <td>No</td>\n",
       "      <td>4583</td>\n",
       "      <td>1508.0</td>\n",
       "      <td>128.0</td>\n",
       "      <td>360.0</td>\n",
       "      <td>1.0</td>\n",
       "      <td>Rural</td>\n",
       "      <td>N</td>\n",
       "    </tr>\n",
       "    <tr>\n",
       "      <th>2</th>\n",
       "      <td>LP001005</td>\n",
       "      <td>Male</td>\n",
       "      <td>Yes</td>\n",
       "      <td>0</td>\n",
       "      <td>Graduate</td>\n",
       "      <td>Yes</td>\n",
       "      <td>3000</td>\n",
       "      <td>0.0</td>\n",
       "      <td>66.0</td>\n",
       "      <td>360.0</td>\n",
       "      <td>1.0</td>\n",
       "      <td>Urban</td>\n",
       "      <td>Y</td>\n",
       "    </tr>\n",
       "    <tr>\n",
       "      <th>3</th>\n",
       "      <td>LP001006</td>\n",
       "      <td>Male</td>\n",
       "      <td>Yes</td>\n",
       "      <td>0</td>\n",
       "      <td>Not Graduate</td>\n",
       "      <td>No</td>\n",
       "      <td>2583</td>\n",
       "      <td>2358.0</td>\n",
       "      <td>120.0</td>\n",
       "      <td>360.0</td>\n",
       "      <td>1.0</td>\n",
       "      <td>Urban</td>\n",
       "      <td>Y</td>\n",
       "    </tr>\n",
       "    <tr>\n",
       "      <th>4</th>\n",
       "      <td>LP001008</td>\n",
       "      <td>Male</td>\n",
       "      <td>No</td>\n",
       "      <td>0</td>\n",
       "      <td>Graduate</td>\n",
       "      <td>No</td>\n",
       "      <td>6000</td>\n",
       "      <td>0.0</td>\n",
       "      <td>141.0</td>\n",
       "      <td>360.0</td>\n",
       "      <td>1.0</td>\n",
       "      <td>Urban</td>\n",
       "      <td>Y</td>\n",
       "    </tr>\n",
       "  </tbody>\n",
       "</table>\n",
       "</div>"
      ],
      "text/plain": [
       "    Loan_ID Gender Married Dependents     Education Self_Employed  \\\n",
       "0  LP001002   Male      No          0      Graduate            No   \n",
       "1  LP001003   Male     Yes          1      Graduate            No   \n",
       "2  LP001005   Male     Yes          0      Graduate           Yes   \n",
       "3  LP001006   Male     Yes          0  Not Graduate            No   \n",
       "4  LP001008   Male      No          0      Graduate            No   \n",
       "\n",
       "   ApplicantIncome  CoapplicantIncome  LoanAmount  Loan_Amount_Term  \\\n",
       "0             5849                0.0         NaN             360.0   \n",
       "1             4583             1508.0       128.0             360.0   \n",
       "2             3000                0.0        66.0             360.0   \n",
       "3             2583             2358.0       120.0             360.0   \n",
       "4             6000                0.0       141.0             360.0   \n",
       "\n",
       "   Credit_History Property_Area Loan_Status  \n",
       "0             1.0         Urban           Y  \n",
       "1             1.0         Rural           N  \n",
       "2             1.0         Urban           Y  \n",
       "3             1.0         Urban           Y  \n",
       "4             1.0         Urban           Y  "
      ]
     },
     "execution_count": 1149,
     "metadata": {},
     "output_type": "execute_result"
    }
   ],
   "source": [
    "train.head()"
   ]
  },
  {
   "cell_type": "markdown",
   "metadata": {},
   "source": [
    "We see that there are 13 fields/columns in the data set. Most of the fields are self-explanatory, such as Gender, Married, Dependents, Education and Self_Employed.\n",
    "As for the remaining items, a brief description is below:\n",
    "\n",
    "**ApplicantIncome, CoapplicantIncome**: The monthly income of applicant or coapplicant in rupees\n",
    "\n",
    "**Loan_Amount**: The amount of loan in thousands of rupees\n",
    "\n",
    "**Loan_Amount_Term**: The duration of the loan in months\n",
    "\n",
    "**Credit_History**: Whether the applicant satisfies the requirements of credit history\n",
    "\n",
    "**Property_Area**: The location of the desired property\n",
    "\n",
    "**Loan_Status**: Whether the application was approved or not\n"
   ]
  },
  {
   "cell_type": "markdown",
   "metadata": {},
   "source": [
    "Having had a first look at the different variables, it is a good idea to look at a short summary of dataset, which is shown below."
   ]
  },
  {
   "cell_type": "code",
   "execution_count": 1064,
   "metadata": {
    "collapsed": false
   },
   "outputs": [
    {
     "data": {
      "text/plain": [
       "(614, 13)"
      ]
     },
     "execution_count": 1064,
     "metadata": {},
     "output_type": "execute_result"
    }
   ],
   "source": [
    "train.shape"
   ]
  },
  {
   "cell_type": "markdown",
   "metadata": {},
   "source": [
    "There are 614 entries in the training set. However, there are a number of NA values in several of the columns as can be seen below"
   ]
  },
  {
   "cell_type": "code",
   "execution_count": 1065,
   "metadata": {
    "collapsed": false
   },
   "outputs": [
    {
     "data": {
      "text/plain": [
       "Loan_ID              614\n",
       "Gender               601\n",
       "Married              611\n",
       "Dependents           599\n",
       "Education            614\n",
       "Self_Employed        582\n",
       "ApplicantIncome      614\n",
       "CoapplicantIncome    614\n",
       "LoanAmount           592\n",
       "Loan_Amount_Term     600\n",
       "Credit_History       564\n",
       "Property_Area        614\n",
       "Loan_Status          614\n",
       "dtype: int64"
      ]
     },
     "execution_count": 1065,
     "metadata": {},
     "output_type": "execute_result"
    }
   ],
   "source": [
    "train.count()"
   ]
  },
  {
   "cell_type": "markdown",
   "metadata": {},
   "source": [
    "These missing values need to be imputed before proceeding with using this dataset for training prediction algorithms. But before that, let us explore the dataset in detail, with whatever values are available"
   ]
  },
  {
   "cell_type": "markdown",
   "metadata": {},
   "source": [
    "Let's look at the proportion of male and female applicants"
   ]
  },
  {
   "cell_type": "code",
   "execution_count": 1066,
   "metadata": {
    "collapsed": false
   },
   "outputs": [
    {
     "data": {
      "text/plain": [
       "<matplotlib.text.Text at 0x12148b358>"
      ]
     },
     "execution_count": 1066,
     "metadata": {},
     "output_type": "execute_result"
    },
    {
     "data": {
      "image/png": "[encoded data removed]",
      "text/plain": [
       "<matplotlib.figure.Figure at 0x115ce7630>"
      ]
     },
     "metadata": {},
     "output_type": "display_data"
    }
   ],
   "source": [
    "%matplotlib inline\n",
    "total_applicants = train.shape[0]\n",
    "plt1 = (train[\"Gender\"].value_counts()/(total_applicants)*100).plot(kind=\"bar\")\n",
    "plt1.set_ylabel(\"Percentage of applicants\")"
   ]
  },
  {
   "cell_type": "markdown",
   "metadata": {},
   "source": [
    "   **Fig 1. Percentage of Males and Females in the dataset** "
   ]
  },
  {
   "cell_type": "markdown",
   "metadata": {},
   "source": [
    "We see that about 80% of the applicants are Male. Now let us take a look at the data based on gender and marital status"
   ]
  },
  {
   "cell_type": "code",
   "execution_count": 1067,
   "metadata": {
    "collapsed": false
   },
   "outputs": [
    {
     "data": {
      "text/plain": [
       "OrderedDict([('Female, Married', 13.029315960912053),\n",
       "             ('Male, Married', 58.143322475570031),\n",
       "             ('Male, Unmarried', 21.172638436482085),\n",
       "             ('Female, Unmarried', 5.0488599348534198)])"
      ]
     },
     "execution_count": 1067,
     "metadata": {},
     "output_type": "execute_result"
    },
    {
     "data": {
      "image/png": "[encoded data removed]",
      "text/plain": [
       "<matplotlib.figure.Figure at 0x1208f45c0>"
      ]
     },
     "metadata": {},
     "output_type": "display_data"
    }
   ],
   "source": [
    "male_mar_perc = (train.groupby(\"Gender\").get_group(\"Male\")[\"Married\"].value_counts()[0])*100/total_applicants\n",
    "male_unmar_perc = (train.groupby(\"Gender\").get_group(\"Male\")[\"Married\"].value_counts()[1])*100/total_applicants\n",
    "female_mar_perc = (train.groupby(\"Gender\").get_group(\"Female\")[\"Married\"].value_counts()[0])*100/total_applicants\n",
    "female_unmar_perc = (train.groupby(\"Gender\").get_group(\"Female\")[\"Married\"].value_counts()[1])*100/total_applicants\n",
    "from collections import OrderedDict\n",
    "plot_list = OrderedDict({'Male, Married':male_mar_perc,'Male, Unmarried':male_unmar_perc,'Female, Married':female_mar_perc,'Female, Unmarried':female_unmar_perc})\n",
    "plt.bar(range(len(plot_list)),plot_list.values(),align=\"center\")\n",
    "plt.xticks(range(len(plot_list)),plot_list.keys())\n",
    "plot_list"
   ]
  },
  {
   "cell_type": "markdown",
   "metadata": {},
   "source": [
    "**Fig 2. Percentage of Males and Females according to marital status**"
   ]
  },
  {
   "cell_type": "markdown",
   "metadata": {},
   "source": [
    "The majority of the applicants are married males. The percentage of female applicants is already low, of which the percentage of unmarried females is still lower.\n",
    "(Note: The figures above might not add up to a total of 100%, since we are ignoring the missing values in the dataset, whereas the percentage is calculated out of the total number of applicants. Strictly speaking this might not be accurate, but it still gives a qualitative trends in the dataset)"
   ]
  },
  {
   "cell_type": "markdown",
   "metadata": {},
   "source": [
    "Let's take a look at the number distribution of data according to the number of dependents "
   ]
  },
  {
   "cell_type": "code",
   "execution_count": 1068,
   "metadata": {
    "collapsed": false
   },
   "outputs": [
    {
     "data": {
      "text/plain": [
       "<matplotlib.text.Text at 0x12184a748>"
      ]
     },
     "execution_count": 1068,
     "metadata": {},
     "output_type": "execute_result"
    },
    {
     "data": {
      "image/png": "[encoded data removed]",
      "text/plain": [
       "<matplotlib.figure.Figure at 0x1216abc88>"
      ]
     },
     "metadata": {},
     "output_type": "display_data"
    }
   ],
   "source": [
    "plt2 = (train[\"Dependents\"].value_counts()/(total_applicants)*100).plot(kind=\"bar\")\n",
    "plt2.set_ylabel(\"Percentage of applicants\")\n",
    "plt2.set_xlabel(\"Number of Dependents\")"
   ]
  },
  {
   "cell_type": "markdown",
   "metadata": {},
   "source": [
    "**Fig 3. Percentage of applicants according to number of dependents**"
   ]
  },
  {
   "cell_type": "markdown",
   "metadata": {},
   "source": [
    "Majority of the applicants do not have any dependents. The proportion of applicants with 1 or 2 dependents are similar, while applicants with 3 or more dependents are the lowest. Lets classify this further according to the gender of the applicants"
   ]
  },
  {
   "cell_type": "code",
   "execution_count": 1069,
   "metadata": {
    "collapsed": false
   },
   "outputs": [
    {
     "data": {
      "text/plain": [
       "<matplotlib.text.Text at 0x1219c4358>"
      ]
     },
     "execution_count": 1069,
     "metadata": {},
     "output_type": "execute_result"
    },
    {
     "data": {
      "image/png": "[encoded data removed]",
      "text/plain": [
       "<matplotlib.figure.Figure at 0x12194fd68>"
      ]
     },
     "metadata": {},
     "output_type": "display_data"
    }
   ],
   "source": [
    "fig3 = plt.figure()\n",
    "ax1 = plt.subplot(121)\n",
    "#ax3 = plt.subplots(1,2)\n",
    "ax2 = plt.subplot(122)\n",
    "fig3.tight_layout()\n",
    "\n",
    "total_male_applicants = train.groupby(\"Gender\").get_group(\"Male\").shape[0]\n",
    "\n",
    "data_plt3 = (train.groupby(\"Gender\").get_group(\"Male\")[\"Dependents\"].value_counts()/(total_male_applicants)*100)\n",
    "# define a list of labels by which the bar chart will be ordered. Else the chart will be plotted in descending order\n",
    "order = ['0','1','2','3+']\n",
    "\n",
    "plt3 = data_plt3.ix[order].plot(kind=\"bar\",ax=ax1)\n",
    "plt3.set_ylabel(\"Percentage of applicants\")\n",
    "plt3.set_xlabel(\"Number of Dependents\")\n",
    "plt3.set_title(\"Male Applicants\")\n",
    "\n",
    "total_female_applicants = train.groupby(\"Gender\").get_group(\"Female\").shape[0]\n",
    "\n",
    "data_plt4 = (train.groupby(\"Gender\").get_group(\"Female\")[\"Dependents\"].value_counts()/(total_female_applicants)*100)\n",
    "\n",
    "plt4 = data_plt4.ix[order].plot(kind=\"bar\",ax=ax2)\n",
    "plt4.set_ylabel(\"Percentage of applicants\")\n",
    "plt4.set_xlabel(\"Number of Dependents\")\n",
    "plt4.set_title(\"Female Applicants\")"
   ]
  },
  {
   "cell_type": "markdown",
   "metadata": {},
   "source": [
    "**Fig 4. Percentage of Male and Female applicants according to number of dependetns**"
   ]
  },
  {
   "cell_type": "markdown",
   "metadata": {},
   "source": [
    "Over 70% of the female applicants have no dependents, and with the percentage decreasing with increasing number of applicants. In case of males, although the majority has no dependents, the figure is slightly lower at about 55%. about 20% have 2 dependents, a slightly lower figure for those with 1 dependent and less than 10% with 3+ applicants"
   ]
  },
  {
   "cell_type": "code",
   "execution_count": 1152,
   "metadata": {
    "collapsed": false
   },
   "outputs": [
    {
     "data": {
      "text/plain": [
       "(0, 90)"
      ]
     },
     "execution_count": 1152,
     "metadata": {},
     "output_type": "execute_result"
    },
    {
     "data": {
      "image/png": "[encoded data removed]",
      "text/plain": [
       "<matplotlib.figure.Figure at 0x123577ba8>"
      ]
     },
     "metadata": {},
     "output_type": "display_data"
    }
   ],
   "source": [
    "fig = plt.figure()\n",
    "ax1 = plt.subplot(121)\n",
    "ax2 = plt.subplot(122)\n",
    "fig.tight_layout()\n",
    "total_applicants = train.shape[0]\n",
    "plot1 = (train[\"Education\"].value_counts()/(total_applicants)*100).plot(kind=\"bar\",ax=ax1)\n",
    "plot1.set_ylabel(\"Percentage of applicants\")\n",
    "#plot1.set_xlabel(\"Education_status\")\n",
    "plot1.set_title(\"Education_status\")\n",
    "plot1.set_ylim(0,90)\n",
    "\n",
    "plot2 = (train[\"Self_Employed\"].value_counts()/(total_applicants)*100).plot(kind=\"bar\",ax=ax2)\n",
    "plot2.set_ylabel(\"Percentage of applicants\")\n",
    "#plot2.set_xlabel(\"Employment_status\")\n",
    "plot2.set_title(\"Self_Employed\")\n",
    "plot2.set_ylim(0,90)"
   ]
  },
  {
   "cell_type": "markdown",
   "metadata": {},
   "source": [
    "**Fig. 5 Percentage of Graduates , Non graduataes, Self Employed and Non-Self Employed applicants**"
   ]
  },
  {
   "cell_type": "markdown",
   "metadata": {},
   "source": [
    "Slightly under 80% of the applicants are graduates, and a bit over 80% of the applicants are not self employed.\n",
    "The distribution of incomes of the applicant and co-applicant, and the loan amount are shown in the figure below. All three quantities seems to have a bunch of outliers. Note that the Loan Amount is shown in 1000s of units whereas the applicant and co-applicant income are shown in actual units. The highest, lowest and median values are lower for co-applicant income than applicant income. Half of the loans are between 100,000 and 200,000, with some very small and very high loans seen as well"
   ]
  },
  {
   "cell_type": "code",
   "execution_count": 1148,
   "metadata": {
    "collapsed": false
   },
   "outputs": [
    {
     "data": {
      "text/plain": [
       "<matplotlib.axes._subplots.AxesSubplot at 0x1173734e0>"
      ]
     },
     "execution_count": 1148,
     "metadata": {},
     "output_type": "execute_result"
    },
    {
     "data": {
      "image/png": "[encoded data removed]",
      "text/plain": [
       "<matplotlib.figure.Figure at 0x122c6a160>"
      ]
     },
     "metadata": {},
     "output_type": "display_data"
    }
   ],
   "source": [
    "fig = plt.figure()\n",
    "ax1 = plt.subplot(131)\n",
    "ax2 = plt.subplot(132)\n",
    "ax3 = plt.subplot(133)\n",
    "sns.boxplot(y=\"ApplicantIncome\",data=train,ax=ax1)\n",
    "sns.boxplot(y=\"CoapplicantIncome\",data=train,ax=ax2)\n",
    "sns.boxplot(y=\"LoanAmount\",data=train,ax=ax3)"
   ]
  },
  {
   "cell_type": "markdown",
   "metadata": {},
   "source": [
    "**Fig 6. Distribution of applicant, coapplicant Income and loan amount in the data set**"
   ]
  },
  {
   "cell_type": "code",
   "execution_count": 1157,
   "metadata": {
    "collapsed": false
   },
   "outputs": [
    {
     "data": {
      "image/png": "[encoded data removed]",
      "text/plain": [
       "<matplotlib.figure.Figure at 0x123f583c8>"
      ]
     },
     "metadata": {},
     "output_type": "display_data"
    }
   ],
   "source": [
    "fig = plt.figure()\n",
    "ax1 = plt.subplot(121)\n",
    "ax2 = plt.subplot(122)\n",
    "plot1 = (train[\"Property_Area\"].value_counts()*100/train.shape[0]).plot(kind=\"bar\",ax=ax1,title=\"Property Area\")\n",
    "plot2 = (train[\"Credit_History\"].value_counts()*100/train.shape[0]).plot(kind=\"bar\",ax=ax2,title=\"Credit History Status\")"
   ]
  },
  {
   "cell_type": "markdown",
   "metadata": {},
   "source": [
    "**Fig 7. Distribution of applicantions according to property location and requirements of credit history**"
   ]
  },
  {
   "cell_type": "markdown",
   "metadata": {},
   "source": [
    "And lastly, we see that most of the applicantions are for properties in Semi Urban areas, followed by urban and rural areas. About 80% of the applications satisfy the required credit history, while the others dont'. (Again, the percentages might not add up, since we have ignored the missing data in these figures) "
   ]
  },
  {
   "cell_type": "markdown",
   "metadata": {},
   "source": [
    "Lets now take a look at the dataset keeping in view the approval status of loans. Let us split the dataset into the cases where the loan was approved and loan was not approved. First lets look at the distribution"
   ]
  },
  {
   "cell_type": "code",
   "execution_count": 1071,
   "metadata": {
    "collapsed": true
   },
   "outputs": [],
   "source": [
    "#train_male = train.groupby(\"Gender\").get_group(\"Male\")\n",
    "#train_female = train.groupby(\"Gender\").get_group(\"Female\")\n",
    "#total_male_applicants = train_male.shape[0]\n",
    "#total_female_applicants=train_female.shape[0]"
   ]
  },
  {
   "cell_type": "code",
   "execution_count": 1072,
   "metadata": {
    "collapsed": false
   },
   "outputs": [
    {
     "data": {
      "text/plain": [
       "<matplotlib.text.Text at 0x1220529e8>"
      ]
     },
     "execution_count": 1072,
     "metadata": {},
     "output_type": "execute_result"
    },
    {
     "data": {
      "image/png": "[encoded data removed]",
      "text/plain": [
       "<matplotlib.figure.Figure at 0x1212cb0f0>"
      ]
     },
     "metadata": {},
     "output_type": "display_data"
    }
   ],
   "source": [
    "#plt = (train_male[\"Loan_Status\"].value_counts()*100/total_male_applicants).plot(kind=\"bar\")\n",
    "#plt.set_xlabel(\"Loan_Status\")\n",
    "#plt.set_ylabel(\"Percentage\")\n",
    "#plt.set_title(\"Male Applicants\")\n",
    "\n",
    "plot = (train[\"Loan_Status\"].value_counts()*100/total_applicants).plot(kind=\"bar\")\n",
    "plot.set_xlabel(\"Loan_Status\")\n",
    "plot.set_ylabel(\"Percentage\")\n",
    "plot.set_title(\"All Applicants\")"
   ]
  },
  {
   "cell_type": "markdown",
   "metadata": {},
   "source": [
    "**Fig 8. Percentage of approval and rejection of applications**"
   ]
  },
  {
   "cell_type": "markdown",
   "metadata": {},
   "source": [
    "If we analyze the dataset as a whole, we see that about 70% of the applications were accepted, and the rest were rejected. This proportions should be kept in mind, since deviation from these percentages when we later look at the data categorized by different variables might show the effect of those variables"
   ]
  },
  {
   "cell_type": "code",
   "execution_count": 1073,
   "metadata": {
    "collapsed": false
   },
   "outputs": [],
   "source": [
    "def plot_bar_chart(df,groupby_var,group,title,axis,xorder=None):\n",
    "    train_group = df.groupby(groupby_var).get_group(group)\n",
    "    total_group_applicants = train_group.shape[0]\n",
    "    if xorder == None:\n",
    "        plot = (train_group[\"Loan_Status\"].value_counts()*100/total_group_applicants).plot(kind=\"bar\",ax=axis)\n",
    "    else:\n",
    "        plot = ((train_group[\"Loan_Status\"].value_counts()*100/total_group_applicants)).ix[xorder].plot(kind=\"bar\",ax=axis,x=xorder)\n",
    "    \n",
    "    plot.set_xlabel(\"Loan_Status\")\n",
    "    plot.set_ylabel(\"Percentage\")\n",
    "    plot.set_ylim([0,80])\n",
    "    plot.set_title(title) \n",
    "    "
   ]
  },
  {
   "cell_type": "code",
   "execution_count": 1074,
   "metadata": {
    "collapsed": false
   },
   "outputs": [
    {
     "data": {
      "image/png": "[encoded data removed]",
      "text/plain": [
       "<matplotlib.figure.Figure at 0x122091240>"
      ]
     },
     "metadata": {},
     "output_type": "display_data"
    },
    {
     "data": {
      "image/png": "[encoded data removed]",
      "text/plain": [
       "<matplotlib.figure.Figure at 0x121c9fbe0>"
      ]
     },
     "metadata": {},
     "output_type": "display_data"
    }
   ],
   "source": [
    "fig4a = plt.figure()\n",
    "\n",
    "ax1 = plt.subplot(141)\n",
    "ax2 = plt.subplot(142)\n",
    "ax3 = plt.subplot(143)\n",
    "ax4 = plt.subplot(144)\n",
    "fig4a.tight_layout()\n",
    "\n",
    "plot_bar_chart(train,\"Gender\",\"Male\",\"Male\",ax1)\n",
    "plot_bar_chart(train,\"Gender\",\"Female\",\"Female\",ax2)\n",
    "plot_bar_chart(train,\"Married\",\"Yes\",\"Married\",ax3)\n",
    "plot_bar_chart(train,\"Married\",\"No\",\"Unmarried\",ax4)\n",
    "#fig4.subplots_adjust(hspace=0.5)\n",
    "#fig4 = plt.figure(3,4)\n",
    "\n",
    "fig4b = plt.figure()\n",
    "\n",
    "ax1 = plt.subplot(141)\n",
    "ax2 = plt.subplot(142)\n",
    "ax3 = plt.subplot(143)\n",
    "ax4 = plt.subplot(144)\n",
    "fig4b.tight_layout()\n",
    "#fig3,ax3 = plt.subplots(1,2)\n",
    "#fig4a,ax4a = plt.subplots(1,4)\n",
    "fig4b.tight_layout()\n",
    "plot_bar_chart(train,\"Education\",\"Graduate\",\"Graduate\",ax1)\n",
    "plot_bar_chart(train,\"Education\",\"Not Graduate\",\"Not Graduates\",ax2)\n",
    "plot_bar_chart(train,\"Self_Employed\",\"Yes\",\"Self Employed\",ax3)\n",
    "plot_bar_chart(train,\"Self_Employed\",\"No\",\"Not Self Employed\",ax4)\n",
    "#axis[0]"
   ]
  },
  {
   "cell_type": "markdown",
   "metadata": {},
   "source": [
    "**Fig 9. Loan approval rate according to gender, marital status, education and type of employment**"
   ]
  },
  {
   "cell_type": "markdown",
   "metadata": {},
   "source": [
    "The acceptance rates of applications are about the same for males and females, whic is approximately similar to what we observe in the population. So is the case between applicants who are self employed and not self employed. Hence, these factors might not be influencing the chance of application approval. However, we see that the rejection rates of applicatoin is slightly higher among unmarried applicants in comparison to the married applicants who have similar acceptance/rejection rate as the population. A similar observation can be made about applicants who are non-graudates."
   ]
  },
  {
   "cell_type": "code",
   "execution_count": 1075,
   "metadata": {
    "collapsed": false
   },
   "outputs": [
    {
     "data": {
      "image/png": "[encoded data removed]",
      "text/plain": [
       "<matplotlib.figure.Figure at 0x12209ab38>"
      ]
     },
     "metadata": {},
     "output_type": "display_data"
    },
    {
     "data": {
      "image/png": "[encoded data removed]",
      "text/plain": [
       "<matplotlib.figure.Figure at 0x1176d89b0>"
      ]
     },
     "metadata": {},
     "output_type": "display_data"
    }
   ],
   "source": [
    "fig5 = plt.figure()\n",
    "ax1 = plt.subplot(131)\n",
    "ax2 = plt.subplot(132)\n",
    "ax3 = plt.subplot(133)\n",
    "fig5.tight_layout()\n",
    "\n",
    "plot_bar_chart(train,\"Property_Area\",\"Urban\",\"Urban\",ax1)\n",
    "plot_bar_chart(train,\"Property_Area\",\"Semiurban\",\"Semi Urban\",ax2)\n",
    "plot_bar_chart(train,\"Property_Area\",\"Rural\",\"Rural\",ax3)\n",
    "\n",
    "fig6 = plt.figure()\n",
    "ax1 = plt.subplot(141)\n",
    "ax2 = plt.subplot(142)\n",
    "ax3 = plt.subplot(143)\n",
    "ax4 = plt.subplot(144)\n",
    "fig6.tight_layout()\n",
    "\n",
    "plot_bar_chart(train,\"Dependents\",\"0\",\"0 Dependents\",ax1)\n",
    "plot_bar_chart(train,\"Dependents\",\"1\",\"1 Dependents\",ax2)\n",
    "plot_bar_chart(train,\"Dependents\",\"2\",\"2 Dependents\",ax3)\n",
    "plot_bar_chart(train,\"Dependents\",\"3+\",\"3+ Dependents\",ax4)\n"
   ]
  },
  {
   "cell_type": "markdown",
   "metadata": {},
   "source": [
    "**Fig 10. Percentage of loan approval according to property area and number of dependents **"
   ]
  },
  {
   "cell_type": "markdown",
   "metadata": {},
   "source": [
    "Based on the locality of the property, we see that semi-urban areas have highest chance of acceptance, followed by urban and rural areas. Applicants with 2 dependents had the highest accpetance rate, followed by those with 0 dependents, and then by those with 1 and 3+ dependents whose acceptance rate is slightly lower. \n"
   ]
  },
  {
   "cell_type": "markdown",
   "metadata": {},
   "source": [
    "One important variable in the context of loan application that must be checked is the credit history of the applicant. Lets take a look at the effect of credit history on loan approval status"
   ]
  },
  {
   "cell_type": "code",
   "execution_count": 1076,
   "metadata": {
    "collapsed": false
   },
   "outputs": [
    {
     "data": {
      "text/plain": [
       "(0, 100)"
      ]
     },
     "execution_count": 1076,
     "metadata": {},
     "output_type": "execute_result"
    },
    {
     "data": {
      "image/png": "[encoded data removed]",
      "text/plain": [
       "<matplotlib.figure.Figure at 0x121978a90>"
      ]
     },
     "metadata": {},
     "output_type": "display_data"
    }
   ],
   "source": [
    "fig6 = plt.figure()\n",
    "ax1 = plt.subplot(121)\n",
    "ax2 = plt.subplot(122)\n",
    "fig6.tight_layout()\n",
    "order=['Y','N']\n",
    "plot_bar_chart(train,\"Credit_History\",1,\"Credit History Satisfactory\",ax1,xorder=order)\n",
    "plot_bar_chart(train,\"Credit_History\",0,\"Credit History Unsatisfactory\",ax2,xorder=order)\n",
    "ax1.set_ylim(0,100)\n",
    "ax2.set_ylim(0,100)"
   ]
  },
  {
   "cell_type": "markdown",
   "metadata": {},
   "source": [
    "**Fig 11. Percentage of loan approval according to credit history**"
   ]
  },
  {
   "cell_type": "markdown",
   "metadata": {
    "collapsed": false
   },
   "source": [
    "As expected, there is a HUGE dependence of the approval status on the credit history of the applicant. If the applicant has a satisfactory credith history, (s)he has about 80% chance of success with the application. In contrast, for a person with unsatisfactory credit history, there is less than 10% chance of success.\n",
    "\n",
    "It would be worthwile, however, to investigate why 20% of applicants were rejected despite having a satsifactory credit history, and how the minority of applicants (<10%) whose applications were approved despite having an unsatisfactory credit history, based on the rest of the applicant information. However, before venturing into that aspect, let us look into a few more aspects such as applicant income, co-applicant, loan amount and loan amount term."
   ]
  },
  {
   "cell_type": "code",
   "execution_count": 1077,
   "metadata": {
    "collapsed": false
   },
   "outputs": [
    {
     "data": {
      "text/plain": [
       "<matplotlib.axes._subplots.AxesSubplot at 0x12207e588>"
      ]
     },
     "execution_count": 1077,
     "metadata": {},
     "output_type": "execute_result"
    },
    {
     "data": {
      "image/png": "[encoded data removed]",
      "text/plain": [
       "<matplotlib.figure.Figure at 0x118bda2b0>"
      ]
     },
     "metadata": {},
     "output_type": "display_data"
    }
   ],
   "source": [
    "fig7 = plt.figure()\n",
    "ax1 = plt.subplot(121)\n",
    "ax2 = plt.subplot(122)\n",
    "fig7.tight_layout()\n",
    "sns.boxplot(x=\"Loan_Status\",y=\"ApplicantIncome\",data=train,ax=ax1)\n",
    "sns.boxplot(x=\"Loan_Status\",y=\"CoapplicantIncome\",data=train,ax=ax2)"
   ]
  },
  {
   "cell_type": "markdown",
   "metadata": {},
   "source": [
    "**Fig 12. Distribution of applicant and coapplicant income according to loan approval status**"
   ]
  },
  {
   "cell_type": "code",
   "execution_count": 1078,
   "metadata": {
    "collapsed": false
   },
   "outputs": [
    {
     "data": {
      "text/plain": [
       "0"
      ]
     },
     "metadata": {},
     "output_type": "display_data"
    },
    {
     "data": {
      "text/plain": [
       "0"
      ]
     },
     "metadata": {},
     "output_type": "display_data"
    },
    {
     "data": {
      "text/plain": [
       "Loan_Status\n",
       "N    3833.5\n",
       "Y    3812.5\n",
       "Name: ApplicantIncome, dtype: float64"
      ]
     },
     "metadata": {},
     "output_type": "display_data"
    },
    {
     "data": {
      "text/plain": [
       "Loan_Status\n",
       "N     268.0\n",
       "Y    1239.5\n",
       "Name: CoapplicantIncome, dtype: float64"
      ]
     },
     "metadata": {},
     "output_type": "display_data"
    }
   ],
   "source": [
    "display(train[\"ApplicantIncome\"].isnull().sum())\n",
    "display(train[\"CoapplicantIncome\"].isnull().sum())\n",
    "display(train.groupby(\"Loan_Status\").ApplicantIncome.median())\n",
    "display(train.groupby(\"Loan_Status\").CoapplicantIncome.median())\n",
    "\n"
   ]
  },
  {
   "cell_type": "markdown",
   "metadata": {},
   "source": [
    "The distribution of applicant income is approximately same among the accepted and rejected case, with the median values also very close to each other. In case of co-applicant income, the median value is lower than their corresponding income for accepted applications. For rejected candidates, the median co-applicant income is much lower  \n",
    "(Note that there are no missing values for applicant and coapplicant income in the entire data set)\n"
   ]
  },
  {
   "cell_type": "code",
   "execution_count": 1079,
   "metadata": {
    "collapsed": false
   },
   "outputs": [
    {
     "data": {
      "text/plain": [
       "<matplotlib.axes._subplots.AxesSubplot at 0x120956ac8>"
      ]
     },
     "execution_count": 1079,
     "metadata": {},
     "output_type": "execute_result"
    },
    {
     "data": {
      "image/png": "[encoded data removed]",
      "text/plain": [
       "<matplotlib.figure.Figure at 0x1220108d0>"
      ]
     },
     "metadata": {},
     "output_type": "display_data"
    }
   ],
   "source": [
    "sns.boxplot(x=\"Loan_Status\",y=\"LoanAmount\",data=train)"
   ]
  },
  {
   "cell_type": "markdown",
   "metadata": {},
   "source": [
    "**Fig 13. Distribution of Loan Amount according to loan approval status**"
   ]
  },
  {
   "cell_type": "code",
   "execution_count": 1080,
   "metadata": {
    "collapsed": false
   },
   "outputs": [
    {
     "data": {
      "text/plain": [
       "Loan_Status\n",
       "N    129.0\n",
       "Y    126.0\n",
       "Name: LoanAmount, dtype: float64"
      ]
     },
     "metadata": {},
     "output_type": "display_data"
    }
   ],
   "source": [
    "display(train.groupby(\"Loan_Status\").LoanAmount.median())"
   ]
  },
  {
   "cell_type": "markdown",
   "metadata": {},
   "source": [
    "Now that we have done some basic exploration of the data set, let us check for missing values in the data set and correct them. Before doing this, let's combine the training and test dataset into a single data set. Note that the test data set does not have the column for Loan Status, hence, this field needs to be created as an empty colum to combine with training set.\n"
   ]
  },
  {
   "cell_type": "code",
   "execution_count": 1081,
   "metadata": {
    "collapsed": false
   },
   "outputs": [],
   "source": [
    "test = pd.read_csv(\"test.csv\")\n",
    "test[\"Loan_Status\"]=0\n"
   ]
  },
  {
   "cell_type": "code",
   "execution_count": 1082,
   "metadata": {
    "collapsed": false
   },
   "outputs": [],
   "source": [
    "all_data = train.append(test,ignore_index=True)"
   ]
  },
  {
   "cell_type": "code",
   "execution_count": null,
   "metadata": {
    "collapsed": false
   },
   "outputs": [],
   "source": []
  },
  {
   "cell_type": "code",
   "execution_count": 1083,
   "metadata": {
    "collapsed": false
   },
   "outputs": [
    {
     "data": {
      "text/plain": [
       "Loan_ID              False\n",
       "Gender                True\n",
       "Married               True\n",
       "Dependents            True\n",
       "Education            False\n",
       "Self_Employed         True\n",
       "ApplicantIncome      False\n",
       "CoapplicantIncome    False\n",
       "LoanAmount            True\n",
       "Loan_Amount_Term      True\n",
       "Credit_History        True\n",
       "Property_Area        False\n",
       "Loan_Status          False\n",
       "dtype: bool"
      ]
     },
     "execution_count": 1083,
     "metadata": {},
     "output_type": "execute_result"
    }
   ],
   "source": [
    "pd.isnull(all_data).any()"
   ]
  },
  {
   "cell_type": "markdown",
   "metadata": {},
   "source": [
    "The columns Gender, Married, Dependents, Self_Employed, LoanAmount, Loan_Amount_Term and Credit_History have missing values. We will look at each of these separately and decide on the best ways to impute the values. Lets first look at the number of missing values in Gender field"
   ]
  },
  {
   "cell_type": "code",
   "execution_count": 1085,
   "metadata": {
    "collapsed": false
   },
   "outputs": [
    {
     "data": {
      "text/plain": [
       "24"
      ]
     },
     "execution_count": 1085,
     "metadata": {},
     "output_type": "execute_result"
    }
   ],
   "source": [
    "all_data[\"Gender\"].isnull().sum()"
   ]
  },
  {
   "cell_type": "markdown",
   "metadata": {
    "collapsed": true
   },
   "source": [
    "From figure 1, over 80% of the applicants are male. Hence a relatively simple method to fill in the 24 values would be to simply specify it as \"Male\" "
   ]
  },
  {
   "cell_type": "code",
   "execution_count": 1086,
   "metadata": {
    "collapsed": false
   },
   "outputs": [],
   "source": [
    "all_data[\"Gender\"].fillna(\"Male\",inplace=True)"
   ]
  },
  {
   "cell_type": "markdown",
   "metadata": {},
   "source": [
    "Next, we look at the \"Married\" field."
   ]
  },
  {
   "cell_type": "code",
   "execution_count": 1088,
   "metadata": {
    "collapsed": false
   },
   "outputs": [
    {
     "data": {
      "text/plain": [
       "3"
      ]
     },
     "execution_count": 1088,
     "metadata": {},
     "output_type": "execute_result"
    }
   ],
   "source": [
    "all_data[\"Married\"].isnull().sum()"
   ]
  },
  {
   "cell_type": "markdown",
   "metadata": {},
   "source": [
    "There are only three values. Lets check out these rows in the data set\n"
   ]
  },
  {
   "cell_type": "code",
   "execution_count": 1089,
   "metadata": {
    "collapsed": false
   },
   "outputs": [
    {
     "data": {
      "text/html": [
       "<div>\n",
       "<table border=\"1\" class=\"dataframe\">\n",
       "  <thead>\n",
       "    <tr style=\"text-align: right;\">\n",
       "      <th></th>\n",
       "      <th>Loan_ID</th>\n",
       "      <th>Gender</th>\n",
       "      <th>Married</th>\n",
       "      <th>Dependents</th>\n",
       "      <th>Education</th>\n",
       "      <th>Self_Employed</th>\n",
       "      <th>ApplicantIncome</th>\n",
       "      <th>CoapplicantIncome</th>\n",
       "      <th>LoanAmount</th>\n",
       "      <th>Loan_Amount_Term</th>\n",
       "      <th>Credit_History</th>\n",
       "      <th>Property_Area</th>\n",
       "      <th>Loan_Status</th>\n",
       "    </tr>\n",
       "  </thead>\n",
       "  <tbody>\n",
       "    <tr>\n",
       "      <th>104</th>\n",
       "      <td>LP001357</td>\n",
       "      <td>Male</td>\n",
       "      <td>NaN</td>\n",
       "      <td>NaN</td>\n",
       "      <td>Graduate</td>\n",
       "      <td>No</td>\n",
       "      <td>3816</td>\n",
       "      <td>754.0</td>\n",
       "      <td>160.0</td>\n",
       "      <td>360.0</td>\n",
       "      <td>1.0</td>\n",
       "      <td>Urban</td>\n",
       "      <td>Y</td>\n",
       "    </tr>\n",
       "    <tr>\n",
       "      <th>228</th>\n",
       "      <td>LP001760</td>\n",
       "      <td>Male</td>\n",
       "      <td>NaN</td>\n",
       "      <td>NaN</td>\n",
       "      <td>Graduate</td>\n",
       "      <td>No</td>\n",
       "      <td>4758</td>\n",
       "      <td>0.0</td>\n",
       "      <td>158.0</td>\n",
       "      <td>480.0</td>\n",
       "      <td>1.0</td>\n",
       "      <td>Semiurban</td>\n",
       "      <td>Y</td>\n",
       "    </tr>\n",
       "    <tr>\n",
       "      <th>435</th>\n",
       "      <td>LP002393</td>\n",
       "      <td>Female</td>\n",
       "      <td>NaN</td>\n",
       "      <td>NaN</td>\n",
       "      <td>Graduate</td>\n",
       "      <td>No</td>\n",
       "      <td>10047</td>\n",
       "      <td>0.0</td>\n",
       "      <td>NaN</td>\n",
       "      <td>240.0</td>\n",
       "      <td>1.0</td>\n",
       "      <td>Semiurban</td>\n",
       "      <td>Y</td>\n",
       "    </tr>\n",
       "  </tbody>\n",
       "</table>\n",
       "</div>"
      ],
      "text/plain": [
       "      Loan_ID  Gender Married Dependents Education Self_Employed  \\\n",
       "104  LP001357    Male     NaN        NaN  Graduate            No   \n",
       "228  LP001760    Male     NaN        NaN  Graduate            No   \n",
       "435  LP002393  Female     NaN        NaN  Graduate            No   \n",
       "\n",
       "     ApplicantIncome  CoapplicantIncome  LoanAmount  Loan_Amount_Term  \\\n",
       "104             3816              754.0       160.0             360.0   \n",
       "228             4758                0.0       158.0             480.0   \n",
       "435            10047                0.0         NaN             240.0   \n",
       "\n",
       "     Credit_History Property_Area Loan_Status  \n",
       "104             1.0         Urban           Y  \n",
       "228             1.0     Semiurban           Y  \n",
       "435             1.0     Semiurban           Y  "
      ]
     },
     "execution_count": 1089,
     "metadata": {},
     "output_type": "execute_result"
    }
   ],
   "source": [
    "all_data[all_data[\"Married\"].isnull()]"
   ]
  },
  {
   "cell_type": "markdown",
   "metadata": {},
   "source": [
    "For the case with LoanID LP001357, we see that the applicant is male with CoapplicantIncome value is not equal to zero. Hence, most likely the applicant is married. For the case with LoanID LP002393, the applicant is female, with coapplicant income value as zero. Hence, it is most likely that the applicant not married. For the case LP001760, the applicant is male, with zero CoapplicantIncome. However, since over 73% of the male applicants are married, (as can be seen from the table below which shows the proportionso of males and females who are married) let us assume that this applicant is married "
   ]
  },
  {
   "cell_type": "code",
   "execution_count": 1090,
   "metadata": {
    "collapsed": false
   },
   "outputs": [
    {
     "data": {
      "text/html": [
       "<div>\n",
       "<table border=\"1\" class=\"dataframe\">\n",
       "  <thead>\n",
       "    <tr style=\"text-align: right;\">\n",
       "      <th>Married</th>\n",
       "      <th>No</th>\n",
       "      <th>Yes</th>\n",
       "    </tr>\n",
       "    <tr>\n",
       "      <th>Gender</th>\n",
       "      <th></th>\n",
       "      <th></th>\n",
       "    </tr>\n",
       "  </thead>\n",
       "  <tbody>\n",
       "    <tr>\n",
       "      <th>Female</th>\n",
       "      <td>0.685083</td>\n",
       "      <td>0.314917</td>\n",
       "    </tr>\n",
       "    <tr>\n",
       "      <th>Male</th>\n",
       "      <td>0.279799</td>\n",
       "      <td>0.720201</td>\n",
       "    </tr>\n",
       "  </tbody>\n",
       "</table>\n",
       "</div>"
      ],
      "text/plain": [
       "Married        No       Yes\n",
       "Gender                     \n",
       "Female   0.685083  0.314917\n",
       "Male     0.279799  0.720201"
      ]
     },
     "execution_count": 1090,
     "metadata": {},
     "output_type": "execute_result"
    }
   ],
   "source": [
    "pd.crosstab(all_data.Gender,all_data.Married).apply(lambda r: r/r.sum(),axis=1)"
   ]
  },
  {
   "cell_type": "code",
   "execution_count": 1091,
   "metadata": {
    "collapsed": false
   },
   "outputs": [],
   "source": [
    "all_data.iloc[104,2]=\"Yes\"\n",
    "all_data.iloc[228,2]=\"Yes\"\n",
    "all_data.iloc[435,2]=\"Yes\""
   ]
  },
  {
   "cell_type": "markdown",
   "metadata": {},
   "source": [
    "Let's check the self_employed variable now"
   ]
  },
  {
   "cell_type": "code",
   "execution_count": 1092,
   "metadata": {
    "collapsed": false
   },
   "outputs": [
    {
     "data": {
      "text/plain": [
       "55"
      ]
     },
     "execution_count": 1092,
     "metadata": {},
     "output_type": "execute_result"
    }
   ],
   "source": [
    "all_data[\"Self_Employed\"].isnull().sum()"
   ]
  },
  {
   "cell_type": "markdown",
   "metadata": {},
   "source": [
    "55 entries are missing. Let us look at the general trend in the dataset"
   ]
  },
  {
   "cell_type": "code",
   "execution_count": 1093,
   "metadata": {
    "collapsed": false
   },
   "outputs": [
    {
     "data": {
      "text/plain": [
       "No     807\n",
       "Yes    119\n",
       "Name: Self_Employed, dtype: int64"
      ]
     },
     "execution_count": 1093,
     "metadata": {},
     "output_type": "execute_result"
    }
   ],
   "source": [
    "all_data.Self_Employed.value_counts()"
   ]
  },
  {
   "cell_type": "markdown",
   "metadata": {},
   "source": [
    "About 87% of the applicatns are not self employed. Hence, lets impute the missing values at Not Self Employed"
   ]
  },
  {
   "cell_type": "code",
   "execution_count": 1094,
   "metadata": {
    "collapsed": true
   },
   "outputs": [],
   "source": [
    "all_data.Self_Employed.fillna(\"No\",inplace=True)"
   ]
  },
  {
   "cell_type": "markdown",
   "metadata": {},
   "source": [
    "Now, let us look at the missing values in Dependents"
   ]
  },
  {
   "cell_type": "code",
   "execution_count": 1098,
   "metadata": {
    "collapsed": false
   },
   "outputs": [
    {
     "data": {
      "text/plain": [
       "25"
      ]
     },
     "execution_count": 1098,
     "metadata": {},
     "output_type": "execute_result"
    }
   ],
   "source": [
    "all_data[\"Dependents\"].isnull().sum()"
   ]
  },
  {
   "cell_type": "markdown",
   "metadata": {},
   "source": [
    "There are 25 rows with values of dependents missing. Before deciding on how to impute this data, it would be worthwhile to look at the table below, which shows the percentage of applicants with 0,1,2,or 3+ dependents segregated according to their gender and marital status. We see that in cases of females, and unmarried males, there is greater than 60% chance that the applicant has no dependents (as high as 85% in case of unmarried males). Hence in all such cases we will impute the number of dependents as zero. The only difficulty arises in case of married males. For those cases, we will use machine learning algorithms to predict the number of dependents."
   ]
  },
  {
   "cell_type": "code",
   "execution_count": 1099,
   "metadata": {
    "collapsed": false
   },
   "outputs": [
    {
     "data": {
      "text/html": [
       "<div>\n",
       "<table border=\"1\" class=\"dataframe\">\n",
       "  <thead>\n",
       "    <tr style=\"text-align: right;\">\n",
       "      <th></th>\n",
       "      <th>Dependents</th>\n",
       "      <th>0</th>\n",
       "      <th>1</th>\n",
       "      <th>2</th>\n",
       "      <th>3+</th>\n",
       "    </tr>\n",
       "    <tr>\n",
       "      <th>Gender</th>\n",
       "      <th>Married</th>\n",
       "      <th></th>\n",
       "      <th></th>\n",
       "      <th></th>\n",
       "      <th></th>\n",
       "    </tr>\n",
       "  </thead>\n",
       "  <tbody>\n",
       "    <tr>\n",
       "      <th rowspan=\"2\" valign=\"top\">Female</th>\n",
       "      <th>No</th>\n",
       "      <td>0.769231</td>\n",
       "      <td>0.166667</td>\n",
       "      <td>0.025641</td>\n",
       "      <td>0.038462</td>\n",
       "    </tr>\n",
       "    <tr>\n",
       "      <th>Yes</th>\n",
       "      <td>0.645161</td>\n",
       "      <td>0.193548</td>\n",
       "      <td>0.161290</td>\n",
       "      <td>0.000000</td>\n",
       "    </tr>\n",
       "    <tr>\n",
       "      <th rowspan=\"2\" valign=\"top\">Male</th>\n",
       "      <th>No</th>\n",
       "      <td>0.851562</td>\n",
       "      <td>0.078125</td>\n",
       "      <td>0.046875</td>\n",
       "      <td>0.023438</td>\n",
       "    </tr>\n",
       "    <tr>\n",
       "      <th>Yes</th>\n",
       "      <td>0.426934</td>\n",
       "      <td>0.206304</td>\n",
       "      <td>0.246418</td>\n",
       "      <td>0.120344</td>\n",
       "    </tr>\n",
       "  </tbody>\n",
       "</table>\n",
       "</div>"
      ],
      "text/plain": [
       "Dependents             0         1         2        3+\n",
       "Gender Married                                        \n",
       "Female No       0.769231  0.166667  0.025641  0.038462\n",
       "       Yes      0.645161  0.193548  0.161290  0.000000\n",
       "Male   No       0.851562  0.078125  0.046875  0.023438\n",
       "       Yes      0.426934  0.206304  0.246418  0.120344"
      ]
     },
     "execution_count": 1099,
     "metadata": {},
     "output_type": "execute_result"
    }
   ],
   "source": [
    "(pd.crosstab([train.Gender, train.Married], train.Dependents)).apply(lambda r: r/r.sum(),axis=1)"
   ]
  },
  {
   "cell_type": "code",
   "execution_count": null,
   "metadata": {
    "collapsed": true
   },
   "outputs": [],
   "source": []
  },
  {
   "cell_type": "code",
   "execution_count": 1100,
   "metadata": {
    "collapsed": false
   },
   "outputs": [],
   "source": [
    "#Imputing missing dependents of all Female applicants as 0\n",
    "all_data.loc[(all_data[\"Gender\"]==\"Female\")&(all_data[\"Dependents\"].isnull()),\"Dependents\"]=0"
   ]
  },
  {
   "cell_type": "code",
   "execution_count": 1101,
   "metadata": {
    "collapsed": false
   },
   "outputs": [],
   "source": [
    "#Imputing missing dependents of all unmarried mmale applicants as 0\n",
    "all_data.loc[(all_data[\"Gender\"]==\"Male\")&(all_data[\"Married\"]==\"No\")&(all_data[\"Dependents\"].isnull()),\"Dependents\"]=0"
   ]
  },
  {
   "cell_type": "markdown",
   "metadata": {},
   "source": [
    "For the rest of the values, let us use a basic decision tree classifier to impute the missing values. This is done by training the decision tree using the data from those cases of married males with non-missing values for dependents (which forms the training set),and using it to predict those rows with the missing values (which forms the test set). Let us now create this training and test set.\n",
    "For predicing the number of dependents, we shall use the variables ApplicantIncome, CoapplicantIncome, LoanAmount, and Property Area"
   ]
  },
  {
   "cell_type": "code",
   "execution_count": 1102,
   "metadata": {
    "collapsed": false
   },
   "outputs": [],
   "source": [
    "all_data.loc[all_data[\"Dependents\"]==\"3+\",\"Dependents\"]=3\n",
    "all_data[\"Dependents\"]=all_data[\"Dependents\"].astype(float)\n",
    "male_married = all_data[(all_data[\"Gender\"]==\"Male\")&(all_data[\"Married\"]==\"Yes\")]"
   ]
  },
  {
   "cell_type": "code",
   "execution_count": 1103,
   "metadata": {
    "collapsed": false
   },
   "outputs": [],
   "source": [
    "train_dep_pred  = male_married[np.isfinite(male_married[\"Dependents\"])]\n",
    "test_dep_pred = male_married[male_married[\"Dependents\"].isnull()]"
   ]
  },
  {
   "cell_type": "code",
   "execution_count": 1104,
   "metadata": {
    "collapsed": false
   },
   "outputs": [
    {
     "data": {
      "text/plain": [
       "2"
      ]
     },
     "execution_count": 1104,
     "metadata": {},
     "output_type": "execute_result"
    }
   ],
   "source": [
    "test_dep_pred[\"LoanAmount\"].isnull().sum()\n",
    "#test_dep_pred.shape\n",
    "#all_data[(all_data[\"Gender\"]==\"Male\")&(all_data[\"Married\"]==\"Yes\")&(all_data[\"Dependents\"].isnull())&(np.isfinite(all_data[\"LoanAmount\"]))]"
   ]
  },
  {
   "cell_type": "markdown",
   "metadata": {},
   "source": [
    "In this training set, there are 16 rows with LoanAmount missing, and in the test set, there are 2 values missing Let us drop these values for the time being.\n"
   ]
  },
  {
   "cell_type": "code",
   "execution_count": 1105,
   "metadata": {
    "collapsed": false
   },
   "outputs": [],
   "source": [
    "train_dep_pred = train_dep_pred[np.isfinite(train_dep_pred[\"LoanAmount\"])]\n",
    "test_dep_pred = test_dep_pred[np.isfinite(test_dep_pred[\"LoanAmount\"])]"
   ]
  },
  {
   "cell_type": "markdown",
   "metadata": {},
   "source": [
    "Let us now define a generic function for classification, including in-build cross-validation action. This function we shall use later for our final prediction of loan application approval as well."
   ]
  },
  {
   "cell_type": "code",
   "execution_count": 1106,
   "metadata": {
    "collapsed": false
   },
   "outputs": [],
   "source": [
    "def classify(model,data,features,target,CV=None):\n",
    "    #Fit the model\n",
    "    model.fit(data[features],data[target])\n",
    "    predictions = model.predict(data[features])\n",
    "    accuracy = metrics.accuracy_score(predictions,data[target])\n",
    "    print(\"Prediction Accuracy on Trainig Set\")\n",
    "    print(accuracy)\n",
    "    \n",
    "    if CV==True:\n",
    "        #k-fold cross-validation\n",
    "        kf = KFold(n_splits=5)\n",
    "        error = []\n",
    "        for train,test in kf.split(data[features]):\n",
    "            train_features = data[features].iloc[train,:]\n",
    "            train_target = data[target].iloc[train]\n",
    "            model.fit(train_features,train_target)\n",
    "            error.append(model.score(data[features].iloc[test,:],data[target].iloc[test]))\n",
    "        print(\"Cross Validation Score\")\n",
    "        print(np.mean(error))\n",
    "    model.fit(data[features],data[target])\n",
    "        "
   ]
  },
  {
   "cell_type": "code",
   "execution_count": 1107,
   "metadata": {
    "collapsed": false
   },
   "outputs": [],
   "source": [
    "#Scaling of ApplicantIncome, CoapplicantIncome and LoanAmount before using it as features\n",
    "from sklearn import preprocessing\n",
    "#min_max_scaler = preprocessing.MinMaxScaler()\n",
    "#train_dep_pred[[\"ApplicantIncome\", \"CoapplicantIncome\", \"LoanAmount\"]] = min_max_scaler.fit_transform(train_dep_pred[[\"ApplicantIncome\", \"CoapplicantIncome\", \"LoanAmount\"]])\n",
    "#test_dep_pred[[\"ApplicantIncome\", \"CoapplicantIncome\", \"LoanAmount\"]] = min_max_scaler.fit_transform(test_dep_pred[[\"ApplicantIncome\", \"CoapplicantIncome\", \"LoanAmount\"]])\n",
    "train_dep_pred[[\"ApplicantIncome\", \"CoapplicantIncome\", \"LoanAmount\"]] = preprocessing.scale(train_dep_pred[[\"ApplicantIncome\", \"CoapplicantIncome\", \"LoanAmount\"]])\n",
    "test_dep_pred[[\"ApplicantIncome\", \"CoapplicantIncome\", \"LoanAmount\"]] = preprocessing.scale(test_dep_pred[[\"ApplicantIncome\", \"CoapplicantIncome\", \"LoanAmount\"]])\n",
    "\n",
    "#Changing categorical variables to numeric\n",
    "from sklearn.preprocessing import LabelEncoder\n",
    "le = LabelEncoder()\n",
    "\n",
    "train_dep_pred[\"Property_Area\"] = le.fit_transform(train_dep_pred[\"Property_Area\"])\n",
    "test_dep_pred[\"Property_Area\"] = le.fit_transform(test_dep_pred[\"Property_Area\"])\n",
    "\n",
    "features= [ \"CoapplicantIncome\", \"LoanAmount\", \"Property_Area\"]\n",
    "target = [\"Dependents\"]\n",
    "\n",
    "from sklearn.tree import DecisionTreeClassifier\n",
    "from sklearn.linear_model import LogisticRegression\n",
    "#test_model = LogisticRegression()\n",
    "tree_model = DecisionTreeClassifier(max_depth=4,min_samples_split = 70)\n",
    "\n"
   ]
  },
  {
   "cell_type": "code",
   "execution_count": 1108,
   "metadata": {
    "collapsed": false
   },
   "outputs": [
    {
     "name": "stdout",
     "output_type": "stream",
     "text": [
      "Prediction Accuracy on Trainig Set\n",
      "0.484403669725\n",
      "Cross Validation Score\n",
      "0.440366972477\n"
     ]
    }
   ],
   "source": [
    "classify(tree_model,train_dep_pred,features,target,CV=True)\n"
   ]
  },
  {
   "cell_type": "markdown",
   "metadata": {},
   "source": [
    "The cross validation accuracy is only marginally better than than the accuracy we would obtain by imputing dependents with the mode value (=0), which is 0.42 (calculation not shown here, but can be verified). Therefore, we can either use the predictions of this classifier or impute the missing values dependents column with 0.\n",
    "For now, let us impute with the predictions obtained above"
   ]
  },
  {
   "cell_type": "code",
   "execution_count": 1109,
   "metadata": {
    "collapsed": false
   },
   "outputs": [],
   "source": [
    "test_predictions = tree_model.predict(test_dep_pred[features])\n",
    "all_data.loc[(all_data[\"Gender\"]==\"Male\")&(all_data[\"Married\"]==\"Yes\")&(all_data[\"Dependents\"].isnull())&(np.isfinite(all_data[\"LoanAmount\"])),\"Dependents\"] = test_predictions"
   ]
  },
  {
   "cell_type": "markdown",
   "metadata": {},
   "source": [
    "Now, there are only two more rows with Dependents values missing, which are the ones we dropped from earlier due to non-available LoanAmount value. Let us impute these last two rows with value 0"
   ]
  },
  {
   "cell_type": "code",
   "execution_count": 1110,
   "metadata": {
    "collapsed": true
   },
   "outputs": [],
   "source": [
    "all_data[\"Dependents\"].fillna(0,inplace=True)"
   ]
  },
  {
   "cell_type": "markdown",
   "metadata": {},
   "source": [
    "So far we have imputed missing values for Gender, Married, Dependents and Self Employed. Next we shall take LoanAmout, for which we will use a linear regression model to predict based on Gender,ApplicantIncome,CoApplicantIncome,Married, Dependents & Property_Area"
   ]
  },
  {
   "cell_type": "code",
   "execution_count": 1111,
   "metadata": {
    "collapsed": false
   },
   "outputs": [],
   "source": [
    "train_LnAmt_pred = all_data[np.isfinite(all_data[\"LoanAmount\"])]\n",
    "test_LnAmt_pred = all_data[all_data[\"LoanAmount\"].isnull()]\n",
    "#pd.crosstab(all_data.Gender,all_data.Married,values=all_data.LoanAmount,aggfunc=np.median)"
   ]
  },
  {
   "cell_type": "code",
   "execution_count": 1112,
   "metadata": {
    "collapsed": false
   },
   "outputs": [
    {
     "data": {
      "text/plain": [
       "LinearRegression(copy_X=True, fit_intercept=True, n_jobs=1, normalize=False)"
      ]
     },
     "execution_count": 1112,
     "metadata": {},
     "output_type": "execute_result"
    }
   ],
   "source": [
    "from sklearn.linear_model import LinearRegression\n",
    "lin_model = LinearRegression()\n",
    "from sklearn import preprocessing\n",
    "#min_max_scaler = preprocessing.MinMaxScaler()\n",
    "#train_dep_pred[[\"ApplicantIncome\", \"CoapplicantIncome\", \"LoanAmount\"]] = min_max_scaler.fit_transform(train_dep_pred[[\"ApplicantIncome\", \"CoapplicantIncome\", \"LoanAmount\"]])\n",
    "#test_dep_pred[[\"ApplicantIncome\", \"CoapplicantIncome\", \"LoanAmount\"]] = min_max_scaler.fit_transform(test_dep_pred[[\"ApplicantIncome\", \"CoapplicantIncome\", \"LoanAmount\"]])\n",
    "\n",
    "#Scaling\n",
    "train_LnAmt_pred[[\"ApplicantIncome\", \"CoapplicantIncome\"]] = preprocessing.scale(train_LnAmt_pred[[\"ApplicantIncome\", \"CoapplicantIncome\"]])\n",
    "test_LnAmt_pred[[\"ApplicantIncome\", \"CoapplicantIncome\"]] = preprocessing.scale(test_LnAmt_pred[[\"ApplicantIncome\", \"CoapplicantIncome\"]])\n",
    "\n",
    "#Label Encoding\n",
    "\n",
    "train_LnAmt_pred[\"Property_Area\"] = le.fit_transform(train_LnAmt_pred[\"Property_Area\"])\n",
    "test_LnAmt_pred[\"Property_Area\"] = le.fit_transform(test_LnAmt_pred[\"Property_Area\"])\n",
    "\n",
    "train_LnAmt_pred[\"Gender\"] = le.fit_transform(train_LnAmt_pred[\"Gender\"])\n",
    "test_LnAmt_pred[\"Gender\"] = le.fit_transform(test_LnAmt_pred[\"Gender\"])\n",
    "\n",
    "train_LnAmt_pred[\"Married\"] = le.fit_transform(train_LnAmt_pred[\"Married\"])\n",
    "test_LnAmt_pred[\"Married\"] = le.fit_transform(test_LnAmt_pred[\"Married\"])\n",
    "\n",
    "features = [\"Gender\",\"ApplicantIncome\",\"CoapplicantIncome\",\"Married\",\"Dependents\",\"Property_Area\"]\n",
    "X = train_LnAmt_pred[features]\n",
    "y = train_LnAmt_pred[\"LoanAmount\"]\n",
    "X_test = test_LnAmt_pred[features]\n",
    "lin_model.fit(X,y)\n"
   ]
  },
  {
   "cell_type": "code",
   "execution_count": 1113,
   "metadata": {
    "collapsed": false
   },
   "outputs": [],
   "source": [
    "predictions = lin_model.predict(X_test)\n",
    "all_data.loc[all_data[\"LoanAmount\"].isnull(),\"LoanAmount\"]=predictions\n",
    "#sns.boxplot(x=\"Dependents\",y=\"LoanAmount\",data=all_data)"
   ]
  },
  {
   "cell_type": "markdown",
   "metadata": {},
   "source": [
    "Having done this, the only fields left with missin values are Loan_Amount_Term and credit_history. Let's take Loan_Amount_Term first. \n",
    "\n"
   ]
  },
  {
   "cell_type": "code",
   "execution_count": 1114,
   "metadata": {
    "collapsed": false
   },
   "outputs": [
    {
     "data": {
      "text/plain": [
       "<matplotlib.axes._subplots.AxesSubplot at 0x121824f28>"
      ]
     },
     "execution_count": 1114,
     "metadata": {},
     "output_type": "execute_result"
    },
    {
     "data": {
      "image/png": "[encoded data removed]",
      "text/plain": [
       "<matplotlib.figure.Figure at 0x12280fa90>"
      ]
     },
     "metadata": {},
     "output_type": "display_data"
    }
   ],
   "source": [
    "order = np.sort(pd.unique(all_data[\"Loan_Amount_Term\"]))\n",
    "(all_data[\"Loan_Amount_Term\"].value_counts()).ix[order].plot(kind=\"bar\")"
   ]
  },
  {
   "cell_type": "markdown",
   "metadata": {},
   "source": [
    "**Fig 14. Distribution of Loan Amount Terms**"
   ]
  },
  {
   "cell_type": "markdown",
   "metadata": {},
   "source": [
    "About 90% of the loans are for 360 months duration. Hence, lets impute the missing values as 360"
   ]
  },
  {
   "cell_type": "code",
   "execution_count": 1115,
   "metadata": {
    "collapsed": true
   },
   "outputs": [],
   "source": [
    "all_data[\"Loan_Amount_Term\"].fillna(360,inplace=True)"
   ]
  },
  {
   "cell_type": "markdown",
   "metadata": {},
   "source": []
  },
  {
   "cell_type": "code",
   "execution_count": 1116,
   "metadata": {
    "collapsed": false
   },
   "outputs": [
    {
     "data": {
      "text/plain": [
       "79"
      ]
     },
     "execution_count": 1116,
     "metadata": {},
     "output_type": "execute_result"
    }
   ],
   "source": [
    "all_data[\"Credit_History\"].isnull().sum()"
   ]
  },
  {
   "cell_type": "code",
   "execution_count": 1117,
   "metadata": {
    "collapsed": false
   },
   "outputs": [
    {
     "data": {
      "text/plain": [
       "Y    37\n",
       "0    29\n",
       "N    13\n",
       "Name: Loan_Status, dtype: int64"
      ]
     },
     "execution_count": 1117,
     "metadata": {},
     "output_type": "execute_result"
    }
   ],
   "source": [
    "all_data.loc[all_data[\"Credit_History\"].isnull()][\"Loan_Status\"].value_counts()"
   ]
  },
  {
   "cell_type": "markdown",
   "metadata": {},
   "source": [
    "The last variable to impute is credit history. We see that there are 79 rows in total with value missing for credit history. Of these, 29 of the values are in the test set.  We saw earlier, that credit history is the most important criterion for granting or rejecting a loan application, and hence we should be very careful in dealing with this variable. There are several lines of reasoning that can be applied:\n",
    "\n",
    "1) **An unavailable credit history is as good as having a bad credit history for practical purposes, and hence unavilable credit histories should imputed as zero:** However, this might not be a very good idea, since we see that of the 50 rows in training data with Credit History value missing, 37 of the cases were approved, whereas only 13 were rejected. Going by the trend in the data set we, see that an unsatisfactory credit history has over 90% chance of rejection. This trend is in direct contradiction to what we would be doing if we apply blanket 0 imputation on missing credit history values\n",
    "\n",
    "2) **Impute all the missing values as 1:** This option would be better, since this method will make sure that the missing rows after imputation will reflect a trend of 74% (37/50) acceptance with satisfactory credit history and 26% rejection. This is infact closer to the trend in the actual data set\n",
    "\n",
    "3) ** Treat the missing values as a new category**: Treat the missing cases as a new category, i.e, 2 instead of 0 or 1. However it is not clear if this method would help the algorithms make better predictions. \n",
    "\n",
    "4) **Use the loan status to predict values of credit history in training set(Y =1,N=0). Impute with 1 or 0 in the test set:** This method is still not recommended, since by doing such an imputation on the training set, we will be re-inforcing the dependence on loan application approval on credit history, making it more all the more difficult to make predictions on those cases that don't follow this rule, which would be a serious disadvantage\n",
    "\n",
    "5) **USE ML algorithms to predict the credit history value based on other features except loan status in the dataset** :This is a tedious method, however, its efficacy should be tested\n",
    "\n",
    "Of all the methods listed above, let us go ahead with 2, since that looks the most optimal among all the options [Note: Method 5 was tested separately, however, it did not seem to help much]\n",
    "\n",
    "\n"
   ]
  },
  {
   "cell_type": "code",
   "execution_count": 1118,
   "metadata": {
    "collapsed": true
   },
   "outputs": [],
   "source": [
    "all_data[\"Credit_History\"].fillna(1,inplace=True)"
   ]
  },
  {
   "cell_type": "markdown",
   "metadata": {},
   "source": [
    "Thus, we have done imputing all the missing values in the data set. Next, we need to prepare the data set by doing some standard operations (of scaling and conversion of factor variables to numeric), followed by some feature engineering before using it to train any algorithms for prediction. Let us first slice back the training set and test set "
   ]
  },
  {
   "cell_type": "code",
   "execution_count": 1119,
   "metadata": {
    "collapsed": false
   },
   "outputs": [],
   "source": [
    "train_clean = all_data.iloc[0:614,]\n",
    "test_clean = all_data.iloc[614:,]"
   ]
  },
  {
   "cell_type": "code",
   "execution_count": 1120,
   "metadata": {
    "collapsed": false
   },
   "outputs": [
    {
     "data": {
      "text/html": [
       "<div>\n",
       "<table border=\"1\" class=\"dataframe\">\n",
       "  <thead>\n",
       "    <tr style=\"text-align: right;\">\n",
       "      <th></th>\n",
       "      <th>Loan_ID</th>\n",
       "      <th>Gender</th>\n",
       "      <th>Married</th>\n",
       "      <th>Dependents</th>\n",
       "      <th>Education</th>\n",
       "      <th>Self_Employed</th>\n",
       "      <th>ApplicantIncome</th>\n",
       "      <th>CoapplicantIncome</th>\n",
       "      <th>LoanAmount</th>\n",
       "      <th>Loan_Amount_Term</th>\n",
       "      <th>Credit_History</th>\n",
       "      <th>Property_Area</th>\n",
       "      <th>Loan_Status</th>\n",
       "    </tr>\n",
       "  </thead>\n",
       "  <tbody>\n",
       "    <tr>\n",
       "      <th>0</th>\n",
       "      <td>LP001002</td>\n",
       "      <td>Male</td>\n",
       "      <td>No</td>\n",
       "      <td>0.0</td>\n",
       "      <td>Graduate</td>\n",
       "      <td>No</td>\n",
       "      <td>5849</td>\n",
       "      <td>0.0</td>\n",
       "      <td>112.781022</td>\n",
       "      <td>360.0</td>\n",
       "      <td>1.0</td>\n",
       "      <td>Urban</td>\n",
       "      <td>Y</td>\n",
       "    </tr>\n",
       "    <tr>\n",
       "      <th>1</th>\n",
       "      <td>LP001003</td>\n",
       "      <td>Male</td>\n",
       "      <td>Yes</td>\n",
       "      <td>1.0</td>\n",
       "      <td>Graduate</td>\n",
       "      <td>No</td>\n",
       "      <td>4583</td>\n",
       "      <td>1508.0</td>\n",
       "      <td>128.000000</td>\n",
       "      <td>360.0</td>\n",
       "      <td>1.0</td>\n",
       "      <td>Rural</td>\n",
       "      <td>N</td>\n",
       "    </tr>\n",
       "    <tr>\n",
       "      <th>2</th>\n",
       "      <td>LP001005</td>\n",
       "      <td>Male</td>\n",
       "      <td>Yes</td>\n",
       "      <td>0.0</td>\n",
       "      <td>Graduate</td>\n",
       "      <td>Yes</td>\n",
       "      <td>3000</td>\n",
       "      <td>0.0</td>\n",
       "      <td>66.000000</td>\n",
       "      <td>360.0</td>\n",
       "      <td>1.0</td>\n",
       "      <td>Urban</td>\n",
       "      <td>Y</td>\n",
       "    </tr>\n",
       "    <tr>\n",
       "      <th>3</th>\n",
       "      <td>LP001006</td>\n",
       "      <td>Male</td>\n",
       "      <td>Yes</td>\n",
       "      <td>0.0</td>\n",
       "      <td>Not Graduate</td>\n",
       "      <td>No</td>\n",
       "      <td>2583</td>\n",
       "      <td>2358.0</td>\n",
       "      <td>120.000000</td>\n",
       "      <td>360.0</td>\n",
       "      <td>1.0</td>\n",
       "      <td>Urban</td>\n",
       "      <td>Y</td>\n",
       "    </tr>\n",
       "    <tr>\n",
       "      <th>4</th>\n",
       "      <td>LP001008</td>\n",
       "      <td>Male</td>\n",
       "      <td>No</td>\n",
       "      <td>0.0</td>\n",
       "      <td>Graduate</td>\n",
       "      <td>No</td>\n",
       "      <td>6000</td>\n",
       "      <td>0.0</td>\n",
       "      <td>141.000000</td>\n",
       "      <td>360.0</td>\n",
       "      <td>1.0</td>\n",
       "      <td>Urban</td>\n",
       "      <td>Y</td>\n",
       "    </tr>\n",
       "  </tbody>\n",
       "</table>\n",
       "</div>"
      ],
      "text/plain": [
       "    Loan_ID Gender Married  Dependents     Education Self_Employed  \\\n",
       "0  LP001002   Male      No         0.0      Graduate            No   \n",
       "1  LP001003   Male     Yes         1.0      Graduate            No   \n",
       "2  LP001005   Male     Yes         0.0      Graduate           Yes   \n",
       "3  LP001006   Male     Yes         0.0  Not Graduate            No   \n",
       "4  LP001008   Male      No         0.0      Graduate            No   \n",
       "\n",
       "   ApplicantIncome  CoapplicantIncome  LoanAmount  Loan_Amount_Term  \\\n",
       "0             5849                0.0  112.781022             360.0   \n",
       "1             4583             1508.0  128.000000             360.0   \n",
       "2             3000                0.0   66.000000             360.0   \n",
       "3             2583             2358.0  120.000000             360.0   \n",
       "4             6000                0.0  141.000000             360.0   \n",
       "\n",
       "   Credit_History Property_Area Loan_Status  \n",
       "0             1.0         Urban           Y  \n",
       "1             1.0         Rural           N  \n",
       "2             1.0         Urban           Y  \n",
       "3             1.0         Urban           Y  \n",
       "4             1.0         Urban           Y  "
      ]
     },
     "execution_count": 1120,
     "metadata": {},
     "output_type": "execute_result"
    }
   ],
   "source": [
    "train_clean.head()"
   ]
  },
  {
   "cell_type": "markdown",
   "metadata": {},
   "source": [
    "Let us convert all the factor variables to numeric"
   ]
  },
  {
   "cell_type": "code",
   "execution_count": 1121,
   "metadata": {
    "collapsed": false
   },
   "outputs": [],
   "source": [
    "for factor in [\"Gender\",\"Married\",\"Education\",\"Self_Employed\",\"Property_Area\",\"Loan_Status\"]:\n",
    "    train_clean[factor]=le.fit_transform(train_clean[factor])\n",
    "    test_clean[factor]=le.fit_transform(test_clean[factor])\n",
    "    "
   ]
  },
  {
   "cell_type": "markdown",
   "metadata": {},
   "source": [
    "Now, let us generate some additional features. The ability of an applicant to pay back a loan is dependent on a number of factors such as the income of the applicant (and co-applicant if applicable), total number of dependents, total loan amount and loan amount term. Let us hence calculate a new feature called \"EMI\", which is the montly installment expected of the applicants. In order to calculate the EMI, we need a value for the interest rate, which is however not provided with the dataset. We can chose to ignore any interest on the loan, but that would not be a realistic scenario, and an EMI value without interest would be too low and does not make sense. \n",
    "\n",
    "Hence for this purpose, let us use an interest rate of 8.5% p.a (which is the value around which rates in India hovers). The forumla for EMI then becomes : \n",
    "                    \n",
    "                    EMI = [PxRx(1+R)^N]/[(1+R)^N-1]\n",
    "                    \n",
    "    where P is the loan amount, R is the interest rate per month (in our case = 8.5/(12x100)) and N is the number of months for which the loan is given"
   ]
  },
  {
   "cell_type": "code",
   "execution_count": 1122,
   "metadata": {
    "collapsed": false
   },
   "outputs": [],
   "source": [
    "def calculate_EMI(df,rate):\n",
    "    #EMI = (P*R*(1+R)**N)/((1+R)**N-1)\n",
    "    P = df[\"LoanAmount\"]*1000\n",
    "    R = rate/(12*100)\n",
    "    N = df[\"Loan_Amount_Term\"]\n",
    "    EMI = (P*R*(1+R)**N)/((1+R)**N-1)\n",
    "    df[\"EMI\"]=EMI\n",
    "    \n",
    "calculate_EMI(train_clean,8.5)\n",
    "calculate_EMI(test_clean,8.5)\n"
   ]
  },
  {
   "cell_type": "markdown",
   "metadata": {},
   "source": [
    "Now that we have calculated EMI, let us calcualte another feature representing the EMI to income ratio DTI. This will represent what proportion of the applicants total-income will be required to be paid as EMI. This single feature will represent all the information contained in ApplicantIncome, CoapplicantIncome, LoanAmount and Loan_Amount_Term in a single variable"
   ]
  },
  {
   "cell_type": "code",
   "execution_count": 1123,
   "metadata": {
    "collapsed": false
   },
   "outputs": [],
   "source": [
    "train_clean[\"DTI\"] = train_clean[\"EMI\"]/(train_clean[\"ApplicantIncome\"]+train_clean[\"CoapplicantIncome\"])\n",
    "test_clean[\"DTI\"] = test_clean[\"EMI\"]/(test_clean[\"ApplicantIncome\"]+test_clean[\"CoapplicantIncome\"])"
   ]
  },
  {
   "cell_type": "code",
   "execution_count": 1124,
   "metadata": {
    "collapsed": false
   },
   "outputs": [
    {
     "data": {
      "text/html": [
       "<div>\n",
       "<table border=\"1\" class=\"dataframe\">\n",
       "  <thead>\n",
       "    <tr style=\"text-align: right;\">\n",
       "      <th></th>\n",
       "      <th>Loan_ID</th>\n",
       "      <th>Gender</th>\n",
       "      <th>Married</th>\n",
       "      <th>Dependents</th>\n",
       "      <th>Education</th>\n",
       "      <th>Self_Employed</th>\n",
       "      <th>ApplicantIncome</th>\n",
       "      <th>CoapplicantIncome</th>\n",
       "      <th>LoanAmount</th>\n",
       "      <th>Loan_Amount_Term</th>\n",
       "      <th>Credit_History</th>\n",
       "      <th>Property_Area</th>\n",
       "      <th>Loan_Status</th>\n",
       "      <th>EMI</th>\n",
       "      <th>DTI</th>\n",
       "    </tr>\n",
       "  </thead>\n",
       "  <tbody>\n",
       "    <tr>\n",
       "      <th>0</th>\n",
       "      <td>LP001002</td>\n",
       "      <td>1</td>\n",
       "      <td>0</td>\n",
       "      <td>0.0</td>\n",
       "      <td>0</td>\n",
       "      <td>0</td>\n",
       "      <td>5849</td>\n",
       "      <td>0.0</td>\n",
       "      <td>112.781022</td>\n",
       "      <td>360.0</td>\n",
       "      <td>1.0</td>\n",
       "      <td>2</td>\n",
       "      <td>1</td>\n",
       "      <td>867.188486</td>\n",
       "      <td>0.148263</td>\n",
       "    </tr>\n",
       "    <tr>\n",
       "      <th>1</th>\n",
       "      <td>LP001003</td>\n",
       "      <td>1</td>\n",
       "      <td>1</td>\n",
       "      <td>1.0</td>\n",
       "      <td>0</td>\n",
       "      <td>0</td>\n",
       "      <td>4583</td>\n",
       "      <td>1508.0</td>\n",
       "      <td>128.000000</td>\n",
       "      <td>360.0</td>\n",
       "      <td>1.0</td>\n",
       "      <td>0</td>\n",
       "      <td>0</td>\n",
       "      <td>984.209259</td>\n",
       "      <td>0.161584</td>\n",
       "    </tr>\n",
       "    <tr>\n",
       "      <th>2</th>\n",
       "      <td>LP001005</td>\n",
       "      <td>1</td>\n",
       "      <td>1</td>\n",
       "      <td>0.0</td>\n",
       "      <td>0</td>\n",
       "      <td>1</td>\n",
       "      <td>3000</td>\n",
       "      <td>0.0</td>\n",
       "      <td>66.000000</td>\n",
       "      <td>360.0</td>\n",
       "      <td>1.0</td>\n",
       "      <td>2</td>\n",
       "      <td>1</td>\n",
       "      <td>507.482899</td>\n",
       "      <td>0.169161</td>\n",
       "    </tr>\n",
       "    <tr>\n",
       "      <th>3</th>\n",
       "      <td>LP001006</td>\n",
       "      <td>1</td>\n",
       "      <td>1</td>\n",
       "      <td>0.0</td>\n",
       "      <td>1</td>\n",
       "      <td>0</td>\n",
       "      <td>2583</td>\n",
       "      <td>2358.0</td>\n",
       "      <td>120.000000</td>\n",
       "      <td>360.0</td>\n",
       "      <td>1.0</td>\n",
       "      <td>2</td>\n",
       "      <td>1</td>\n",
       "      <td>922.696180</td>\n",
       "      <td>0.186743</td>\n",
       "    </tr>\n",
       "    <tr>\n",
       "      <th>4</th>\n",
       "      <td>LP001008</td>\n",
       "      <td>1</td>\n",
       "      <td>0</td>\n",
       "      <td>0.0</td>\n",
       "      <td>0</td>\n",
       "      <td>0</td>\n",
       "      <td>6000</td>\n",
       "      <td>0.0</td>\n",
       "      <td>141.000000</td>\n",
       "      <td>360.0</td>\n",
       "      <td>1.0</td>\n",
       "      <td>2</td>\n",
       "      <td>1</td>\n",
       "      <td>1084.168012</td>\n",
       "      <td>0.180695</td>\n",
       "    </tr>\n",
       "  </tbody>\n",
       "</table>\n",
       "</div>"
      ],
      "text/plain": [
       "    Loan_ID  Gender  Married  Dependents  Education  Self_Employed  \\\n",
       "0  LP001002       1        0         0.0          0              0   \n",
       "1  LP001003       1        1         1.0          0              0   \n",
       "2  LP001005       1        1         0.0          0              1   \n",
       "3  LP001006       1        1         0.0          1              0   \n",
       "4  LP001008       1        0         0.0          0              0   \n",
       "\n",
       "   ApplicantIncome  CoapplicantIncome  LoanAmount  Loan_Amount_Term  \\\n",
       "0             5849                0.0  112.781022             360.0   \n",
       "1             4583             1508.0  128.000000             360.0   \n",
       "2             3000                0.0   66.000000             360.0   \n",
       "3             2583             2358.0  120.000000             360.0   \n",
       "4             6000                0.0  141.000000             360.0   \n",
       "\n",
       "   Credit_History  Property_Area  Loan_Status          EMI       DTI  \n",
       "0             1.0              2            1   867.188486  0.148263  \n",
       "1             1.0              0            0   984.209259  0.161584  \n",
       "2             1.0              2            1   507.482899  0.169161  \n",
       "3             1.0              2            1   922.696180  0.186743  \n",
       "4             1.0              2            1  1084.168012  0.180695  "
      ]
     },
     "execution_count": 1124,
     "metadata": {},
     "output_type": "execute_result"
    }
   ],
   "source": [
    "train_clean.head()"
   ]
  },
  {
   "cell_type": "markdown",
   "metadata": {},
   "source": [
    "Having done some feature engineering, let us now proceed with training a classification algorithm on the training set, and make predictions of the Loan_Status on the test set. We need to normalize the ApplicantIncome and CoapplicantIncome field before using them for training the algorithms"
   ]
  },
  {
   "cell_type": "code",
   "execution_count": 1125,
   "metadata": {
    "collapsed": false
   },
   "outputs": [],
   "source": [
    "train_clean[[\"ApplicantIncome\",\"CoapplicantIncome\"]] = preprocessing.scale(train_clean[[\"ApplicantIncome\",\"CoapplicantIncome\"]])\n",
    "test_clean[[\"ApplicantIncome\",\"CoapplicantIncome\"]] = preprocessing.scale(test_clean[[\"ApplicantIncome\",\"CoapplicantIncome\"]])"
   ]
  },
  {
   "cell_type": "code",
   "execution_count": 1126,
   "metadata": {
    "collapsed": false
   },
   "outputs": [
    {
     "data": {
      "text/html": [
       "<div>\n",
       "<table border=\"1\" class=\"dataframe\">\n",
       "  <thead>\n",
       "    <tr style=\"text-align: right;\">\n",
       "      <th></th>\n",
       "      <th>Loan_ID</th>\n",
       "      <th>Gender</th>\n",
       "      <th>Married</th>\n",
       "      <th>Dependents</th>\n",
       "      <th>Education</th>\n",
       "      <th>Self_Employed</th>\n",
       "      <th>ApplicantIncome</th>\n",
       "      <th>CoapplicantIncome</th>\n",
       "      <th>LoanAmount</th>\n",
       "      <th>Loan_Amount_Term</th>\n",
       "      <th>Credit_History</th>\n",
       "      <th>Property_Area</th>\n",
       "      <th>Loan_Status</th>\n",
       "      <th>EMI</th>\n",
       "      <th>DTI</th>\n",
       "    </tr>\n",
       "  </thead>\n",
       "  <tbody>\n",
       "    <tr>\n",
       "      <th>0</th>\n",
       "      <td>LP001002</td>\n",
       "      <td>1</td>\n",
       "      <td>0</td>\n",
       "      <td>0.0</td>\n",
       "      <td>0</td>\n",
       "      <td>0</td>\n",
       "      <td>0.072991</td>\n",
       "      <td>-0.554487</td>\n",
       "      <td>112.781022</td>\n",
       "      <td>360.0</td>\n",
       "      <td>1.0</td>\n",
       "      <td>2</td>\n",
       "      <td>1</td>\n",
       "      <td>867.188486</td>\n",
       "      <td>0.148263</td>\n",
       "    </tr>\n",
       "    <tr>\n",
       "      <th>1</th>\n",
       "      <td>LP001003</td>\n",
       "      <td>1</td>\n",
       "      <td>1</td>\n",
       "      <td>1.0</td>\n",
       "      <td>0</td>\n",
       "      <td>0</td>\n",
       "      <td>-0.134412</td>\n",
       "      <td>-0.038732</td>\n",
       "      <td>128.000000</td>\n",
       "      <td>360.0</td>\n",
       "      <td>1.0</td>\n",
       "      <td>0</td>\n",
       "      <td>0</td>\n",
       "      <td>984.209259</td>\n",
       "      <td>0.161584</td>\n",
       "    </tr>\n",
       "    <tr>\n",
       "      <th>2</th>\n",
       "      <td>LP001005</td>\n",
       "      <td>1</td>\n",
       "      <td>1</td>\n",
       "      <td>0.0</td>\n",
       "      <td>0</td>\n",
       "      <td>1</td>\n",
       "      <td>-0.393747</td>\n",
       "      <td>-0.554487</td>\n",
       "      <td>66.000000</td>\n",
       "      <td>360.0</td>\n",
       "      <td>1.0</td>\n",
       "      <td>2</td>\n",
       "      <td>1</td>\n",
       "      <td>507.482899</td>\n",
       "      <td>0.169161</td>\n",
       "    </tr>\n",
       "    <tr>\n",
       "      <th>3</th>\n",
       "      <td>LP001006</td>\n",
       "      <td>1</td>\n",
       "      <td>1</td>\n",
       "      <td>0.0</td>\n",
       "      <td>1</td>\n",
       "      <td>0</td>\n",
       "      <td>-0.462062</td>\n",
       "      <td>0.251980</td>\n",
       "      <td>120.000000</td>\n",
       "      <td>360.0</td>\n",
       "      <td>1.0</td>\n",
       "      <td>2</td>\n",
       "      <td>1</td>\n",
       "      <td>922.696180</td>\n",
       "      <td>0.186743</td>\n",
       "    </tr>\n",
       "    <tr>\n",
       "      <th>4</th>\n",
       "      <td>LP001008</td>\n",
       "      <td>1</td>\n",
       "      <td>0</td>\n",
       "      <td>0.0</td>\n",
       "      <td>0</td>\n",
       "      <td>0</td>\n",
       "      <td>0.097728</td>\n",
       "      <td>-0.554487</td>\n",
       "      <td>141.000000</td>\n",
       "      <td>360.0</td>\n",
       "      <td>1.0</td>\n",
       "      <td>2</td>\n",
       "      <td>1</td>\n",
       "      <td>1084.168012</td>\n",
       "      <td>0.180695</td>\n",
       "    </tr>\n",
       "  </tbody>\n",
       "</table>\n",
       "</div>"
      ],
      "text/plain": [
       "    Loan_ID  Gender  Married  Dependents  Education  Self_Employed  \\\n",
       "0  LP001002       1        0         0.0          0              0   \n",
       "1  LP001003       1        1         1.0          0              0   \n",
       "2  LP001005       1        1         0.0          0              1   \n",
       "3  LP001006       1        1         0.0          1              0   \n",
       "4  LP001008       1        0         0.0          0              0   \n",
       "\n",
       "   ApplicantIncome  CoapplicantIncome  LoanAmount  Loan_Amount_Term  \\\n",
       "0         0.072991          -0.554487  112.781022             360.0   \n",
       "1        -0.134412          -0.038732  128.000000             360.0   \n",
       "2        -0.393747          -0.554487   66.000000             360.0   \n",
       "3        -0.462062           0.251980  120.000000             360.0   \n",
       "4         0.097728          -0.554487  141.000000             360.0   \n",
       "\n",
       "   Credit_History  Property_Area  Loan_Status          EMI       DTI  \n",
       "0             1.0              2            1   867.188486  0.148263  \n",
       "1             1.0              0            0   984.209259  0.161584  \n",
       "2             1.0              2            1   507.482899  0.169161  \n",
       "3             1.0              2            1   922.696180  0.186743  \n",
       "4             1.0              2            1  1084.168012  0.180695  "
      ]
     },
     "execution_count": 1126,
     "metadata": {},
     "output_type": "execute_result"
    }
   ],
   "source": [
    "train_clean.head()"
   ]
  },
  {
   "cell_type": "markdown",
   "metadata": {},
   "source": [
    "Before proceeding with predictions, let us proceed with a baseline prediction method. We saw earlier, that credit history variable has a significant impact on the approval/rejection status of an application. Hence let us create a baseline prediction that Loan_Status = Y if Credit history = 1, or Loan_Status = N other wise. To test the accuracy of the model, let us create a new column, which will have value 1 if this condition is met, or 0 otherwise"
   ]
  },
  {
   "cell_type": "code",
   "execution_count": 1127,
   "metadata": {
    "collapsed": false
   },
   "outputs": [
    {
     "data": {
      "text/plain": [
       "0.8094462540716613"
      ]
     },
     "execution_count": 1127,
     "metadata": {},
     "output_type": "execute_result"
    }
   ],
   "source": [
    "train_clean[\"baseline_pred_correct\"]=0\n",
    "train_clean.loc[(train_clean[\"Credit_History\"]==train_clean[\"Loan_Status\"]),\"baseline_pred_correct\"] = 1\n",
    "baseline_accuracy = train_clean[\"baseline_pred_correct\"].sum()/train_clean.shape[0]\n",
    "baseline_accuracy"
   ]
  },
  {
   "cell_type": "markdown",
   "metadata": {},
   "source": [
    "the baseline accuracy is around 81%. Hence we could just use this method and get a decent accuracy rate. It remains to see if any of the standard classification algorithms would yield better accuracy"
   ]
  },
  {
   "cell_type": "code",
   "execution_count": 1128,
   "metadata": {
    "collapsed": true
   },
   "outputs": [],
   "source": [
    "#Define Classifier\n",
    "features = [\"Gender\",\"Married\",\"Dependents\",\"Education\",\"Self_Employed\",\"ApplicantIncome\",\"CoapplicantIncome\",\"Credit_History\",\"Property_Area\",\"DTI\"]\n",
    "#features_LR = [\"Married\",\"Education\",\"Credit_History\",\"DTI\"]\n",
    "target=[\"Loan_Status\"]"
   ]
  },
  {
   "cell_type": "code",
   "execution_count": 1129,
   "metadata": {
    "collapsed": false
   },
   "outputs": [
    {
     "name": "stdout",
     "output_type": "stream",
     "text": [
      "Prediction Accuracy on Trainig Set\n",
      "0.814332247557\n",
      "Cross Validation Score\n",
      "0.807836865254\n"
     ]
    }
   ],
   "source": [
    "log_reg_model = LogisticRegression()\n",
    "#tree_model =  DecisionTreeClassifier(max_depth=11,min_samples_split = 200)\n",
    "classify(log_reg_model,train_clean,features,target,CV=True)"
   ]
  },
  {
   "cell_type": "markdown",
   "metadata": {},
   "source": [
    " Let us look at the coefficient values to see which ones are given the most weightage"
   ]
  },
  {
   "cell_type": "code",
   "execution_count": 1130,
   "metadata": {
    "collapsed": false
   },
   "outputs": [
    {
     "data": {
      "text/plain": [
       "array([[-0.18298988,  0.50094457,  0.02651495, -0.37720122, -0.0593158 ,\n",
       "        -0.07448643, -0.19584111,  3.18116407,  0.07177565, -1.36176986]])"
      ]
     },
     "execution_count": 1130,
     "metadata": {},
     "output_type": "execute_result"
    }
   ],
   "source": [
    "log_reg_model.coef_"
   ]
  },
  {
   "cell_type": "markdown",
   "metadata": {},
   "source": [
    "As expected, the coefficient for Credit_History has the highest magnitude, indicating its highest significance. This is followed by the newly created feature DTI, Married,and then Education. Let us have a look at the predictions made by this classifier on the training set, and check which cases it is getting wrong "
   ]
  },
  {
   "cell_type": "code",
   "execution_count": 1131,
   "metadata": {
    "collapsed": false
   },
   "outputs": [],
   "source": [
    "train_clean[\"prediction\"] = log_reg_model.predict(train_clean[features])\n"
   ]
  },
  {
   "cell_type": "code",
   "execution_count": 1232,
   "metadata": {
    "collapsed": false
   },
   "outputs": [
    {
     "data": {
      "text/html": [
       "<div>\n",
       "<table border=\"1\" class=\"dataframe\">\n",
       "  <thead>\n",
       "    <tr style=\"text-align: right;\">\n",
       "      <th></th>\n",
       "      <th>Loan_ID</th>\n",
       "      <th>Gender</th>\n",
       "      <th>Married</th>\n",
       "      <th>Dependents</th>\n",
       "      <th>Education</th>\n",
       "      <th>Self_Employed</th>\n",
       "      <th>ApplicantIncome</th>\n",
       "      <th>CoapplicantIncome</th>\n",
       "      <th>LoanAmount</th>\n",
       "      <th>Loan_Amount_Term</th>\n",
       "      <th>Credit_History</th>\n",
       "      <th>Property_Area</th>\n",
       "      <th>Loan_Status</th>\n",
       "      <th>EMI</th>\n",
       "      <th>DTI</th>\n",
       "      <th>baseline_pred_correct</th>\n",
       "      <th>prediction</th>\n",
       "    </tr>\n",
       "  </thead>\n",
       "  <tbody>\n",
       "    <tr>\n",
       "      <th>0</th>\n",
       "      <td>LP001002</td>\n",
       "      <td>1</td>\n",
       "      <td>0</td>\n",
       "      <td>0.0</td>\n",
       "      <td>0</td>\n",
       "      <td>0</td>\n",
       "      <td>0.072991</td>\n",
       "      <td>-0.554487</td>\n",
       "      <td>112.781022</td>\n",
       "      <td>360.0</td>\n",
       "      <td>1.0</td>\n",
       "      <td>2</td>\n",
       "      <td>1</td>\n",
       "      <td>867.188486</td>\n",
       "      <td>0.148263</td>\n",
       "      <td>1</td>\n",
       "      <td>1</td>\n",
       "    </tr>\n",
       "    <tr>\n",
       "      <th>1</th>\n",
       "      <td>LP001003</td>\n",
       "      <td>1</td>\n",
       "      <td>1</td>\n",
       "      <td>1.0</td>\n",
       "      <td>0</td>\n",
       "      <td>0</td>\n",
       "      <td>-0.134412</td>\n",
       "      <td>-0.038732</td>\n",
       "      <td>128.000000</td>\n",
       "      <td>360.0</td>\n",
       "      <td>1.0</td>\n",
       "      <td>0</td>\n",
       "      <td>0</td>\n",
       "      <td>984.209259</td>\n",
       "      <td>0.161584</td>\n",
       "      <td>0</td>\n",
       "      <td>1</td>\n",
       "    </tr>\n",
       "    <tr>\n",
       "      <th>2</th>\n",
       "      <td>LP001005</td>\n",
       "      <td>1</td>\n",
       "      <td>1</td>\n",
       "      <td>0.0</td>\n",
       "      <td>0</td>\n",
       "      <td>1</td>\n",
       "      <td>-0.393747</td>\n",
       "      <td>-0.554487</td>\n",
       "      <td>66.000000</td>\n",
       "      <td>360.0</td>\n",
       "      <td>1.0</td>\n",
       "      <td>2</td>\n",
       "      <td>1</td>\n",
       "      <td>507.482899</td>\n",
       "      <td>0.169161</td>\n",
       "      <td>1</td>\n",
       "      <td>1</td>\n",
       "    </tr>\n",
       "    <tr>\n",
       "      <th>3</th>\n",
       "      <td>LP001006</td>\n",
       "      <td>1</td>\n",
       "      <td>1</td>\n",
       "      <td>0.0</td>\n",
       "      <td>1</td>\n",
       "      <td>0</td>\n",
       "      <td>-0.462062</td>\n",
       "      <td>0.251980</td>\n",
       "      <td>120.000000</td>\n",
       "      <td>360.0</td>\n",
       "      <td>1.0</td>\n",
       "      <td>2</td>\n",
       "      <td>1</td>\n",
       "      <td>922.696180</td>\n",
       "      <td>0.186743</td>\n",
       "      <td>1</td>\n",
       "      <td>1</td>\n",
       "    </tr>\n",
       "    <tr>\n",
       "      <th>4</th>\n",
       "      <td>LP001008</td>\n",
       "      <td>1</td>\n",
       "      <td>0</td>\n",
       "      <td>0.0</td>\n",
       "      <td>0</td>\n",
       "      <td>0</td>\n",
       "      <td>0.097728</td>\n",
       "      <td>-0.554487</td>\n",
       "      <td>141.000000</td>\n",
       "      <td>360.0</td>\n",
       "      <td>1.0</td>\n",
       "      <td>2</td>\n",
       "      <td>1</td>\n",
       "      <td>1084.168012</td>\n",
       "      <td>0.180695</td>\n",
       "      <td>1</td>\n",
       "      <td>1</td>\n",
       "    </tr>\n",
       "    <tr>\n",
       "      <th>5</th>\n",
       "      <td>LP001011</td>\n",
       "      <td>1</td>\n",
       "      <td>1</td>\n",
       "      <td>2.0</td>\n",
       "      <td>0</td>\n",
       "      <td>1</td>\n",
       "      <td>0.002218</td>\n",
       "      <td>0.880600</td>\n",
       "      <td>267.000000</td>\n",
       "      <td>360.0</td>\n",
       "      <td>1.0</td>\n",
       "      <td>2</td>\n",
       "      <td>1</td>\n",
       "      <td>2052.999001</td>\n",
       "      <td>0.213565</td>\n",
       "      <td>1</td>\n",
       "      <td>1</td>\n",
       "    </tr>\n",
       "    <tr>\n",
       "      <th>6</th>\n",
       "      <td>LP001013</td>\n",
       "      <td>1</td>\n",
       "      <td>1</td>\n",
       "      <td>0.0</td>\n",
       "      <td>1</td>\n",
       "      <td>0</td>\n",
       "      <td>-0.503019</td>\n",
       "      <td>-0.035995</td>\n",
       "      <td>95.000000</td>\n",
       "      <td>360.0</td>\n",
       "      <td>1.0</td>\n",
       "      <td>2</td>\n",
       "      <td>1</td>\n",
       "      <td>730.467809</td>\n",
       "      <td>0.189781</td>\n",
       "      <td>1</td>\n",
       "      <td>1</td>\n",
       "    </tr>\n",
       "    <tr>\n",
       "      <th>7</th>\n",
       "      <td>LP001014</td>\n",
       "      <td>1</td>\n",
       "      <td>1</td>\n",
       "      <td>3.0</td>\n",
       "      <td>0</td>\n",
       "      <td>0</td>\n",
       "      <td>-0.387850</td>\n",
       "      <td>0.301914</td>\n",
       "      <td>158.000000</td>\n",
       "      <td>360.0</td>\n",
       "      <td>0.0</td>\n",
       "      <td>1</td>\n",
       "      <td>0</td>\n",
       "      <td>1214.883304</td>\n",
       "      <td>0.219293</td>\n",
       "      <td>1</td>\n",
       "      <td>0</td>\n",
       "    </tr>\n",
       "    <tr>\n",
       "      <th>8</th>\n",
       "      <td>LP001018</td>\n",
       "      <td>1</td>\n",
       "      <td>1</td>\n",
       "      <td>2.0</td>\n",
       "      <td>0</td>\n",
       "      <td>0</td>\n",
       "      <td>-0.228939</td>\n",
       "      <td>-0.032575</td>\n",
       "      <td>168.000000</td>\n",
       "      <td>360.0</td>\n",
       "      <td>1.0</td>\n",
       "      <td>2</td>\n",
       "      <td>1</td>\n",
       "      <td>1291.774652</td>\n",
       "      <td>0.233510</td>\n",
       "      <td>1</td>\n",
       "      <td>1</td>\n",
       "    </tr>\n",
       "    <tr>\n",
       "      <th>9</th>\n",
       "      <td>LP001020</td>\n",
       "      <td>1</td>\n",
       "      <td>1</td>\n",
       "      <td>1.0</td>\n",
       "      <td>0</td>\n",
       "      <td>0</td>\n",
       "      <td>1.218457</td>\n",
       "      <td>3.196713</td>\n",
       "      <td>349.000000</td>\n",
       "      <td>360.0</td>\n",
       "      <td>1.0</td>\n",
       "      <td>1</td>\n",
       "      <td>0</td>\n",
       "      <td>2683.508058</td>\n",
       "      <td>0.112710</td>\n",
       "      <td>0</td>\n",
       "      <td>1</td>\n",
       "    </tr>\n",
       "    <tr>\n",
       "      <th>10</th>\n",
       "      <td>LP001024</td>\n",
       "      <td>1</td>\n",
       "      <td>1</td>\n",
       "      <td>2.0</td>\n",
       "      <td>0</td>\n",
       "      <td>0</td>\n",
       "      <td>-0.360982</td>\n",
       "      <td>-0.315078</td>\n",
       "      <td>70.000000</td>\n",
       "      <td>360.0</td>\n",
       "      <td>1.0</td>\n",
       "      <td>2</td>\n",
       "      <td>1</td>\n",
       "      <td>538.239439</td>\n",
       "      <td>0.138010</td>\n",
       "      <td>1</td>\n",
       "      <td>1</td>\n",
       "    </tr>\n",
       "    <tr>\n",
       "      <th>11</th>\n",
       "      <td>LP001027</td>\n",
       "      <td>1</td>\n",
       "      <td>1</td>\n",
       "      <td>2.0</td>\n",
       "      <td>0</td>\n",
       "      <td>0</td>\n",
       "      <td>-0.475660</td>\n",
       "      <td>0.074817</td>\n",
       "      <td>109.000000</td>\n",
       "      <td>360.0</td>\n",
       "      <td>1.0</td>\n",
       "      <td>2</td>\n",
       "      <td>1</td>\n",
       "      <td>838.115697</td>\n",
       "      <td>0.193114</td>\n",
       "      <td>1</td>\n",
       "      <td>1</td>\n",
       "    </tr>\n",
       "    <tr>\n",
       "      <th>12</th>\n",
       "      <td>LP001028</td>\n",
       "      <td>1</td>\n",
       "      <td>1</td>\n",
       "      <td>2.0</td>\n",
       "      <td>0</td>\n",
       "      <td>0</td>\n",
       "      <td>-0.381788</td>\n",
       "      <td>2.217871</td>\n",
       "      <td>200.000000</td>\n",
       "      <td>360.0</td>\n",
       "      <td>1.0</td>\n",
       "      <td>2</td>\n",
       "      <td>1</td>\n",
       "      <td>1537.826967</td>\n",
       "      <td>0.137564</td>\n",
       "      <td>1</td>\n",
       "      <td>1</td>\n",
       "    </tr>\n",
       "    <tr>\n",
       "      <th>13</th>\n",
       "      <td>LP001029</td>\n",
       "      <td>1</td>\n",
       "      <td>0</td>\n",
       "      <td>0.0</td>\n",
       "      <td>0</td>\n",
       "      <td>0</td>\n",
       "      <td>-0.581655</td>\n",
       "      <td>0.416830</td>\n",
       "      <td>114.000000</td>\n",
       "      <td>360.0</td>\n",
       "      <td>1.0</td>\n",
       "      <td>0</td>\n",
       "      <td>0</td>\n",
       "      <td>876.561371</td>\n",
       "      <td>0.186781</td>\n",
       "      <td>0</td>\n",
       "      <td>1</td>\n",
       "    </tr>\n",
       "    <tr>\n",
       "      <th>14</th>\n",
       "      <td>LP001030</td>\n",
       "      <td>1</td>\n",
       "      <td>1</td>\n",
       "      <td>2.0</td>\n",
       "      <td>0</td>\n",
       "      <td>0</td>\n",
       "      <td>-0.672414</td>\n",
       "      <td>-0.183061</td>\n",
       "      <td>17.000000</td>\n",
       "      <td>120.0</td>\n",
       "      <td>1.0</td>\n",
       "      <td>2</td>\n",
       "      <td>1</td>\n",
       "      <td>210.775671</td>\n",
       "      <td>0.088376</td>\n",
       "      <td>1</td>\n",
       "      <td>1</td>\n",
       "    </tr>\n",
       "    <tr>\n",
       "      <th>15</th>\n",
       "      <td>LP001032</td>\n",
       "      <td>1</td>\n",
       "      <td>0</td>\n",
       "      <td>0.0</td>\n",
       "      <td>0</td>\n",
       "      <td>0</td>\n",
       "      <td>-0.074288</td>\n",
       "      <td>-0.554487</td>\n",
       "      <td>125.000000</td>\n",
       "      <td>360.0</td>\n",
       "      <td>1.0</td>\n",
       "      <td>2</td>\n",
       "      <td>1</td>\n",
       "      <td>961.141854</td>\n",
       "      <td>0.194170</td>\n",
       "      <td>1</td>\n",
       "      <td>1</td>\n",
       "    </tr>\n",
       "    <tr>\n",
       "      <th>16</th>\n",
       "      <td>LP001034</td>\n",
       "      <td>1</td>\n",
       "      <td>0</td>\n",
       "      <td>1.0</td>\n",
       "      <td>1</td>\n",
       "      <td>0</td>\n",
       "      <td>-0.296107</td>\n",
       "      <td>-0.554487</td>\n",
       "      <td>100.000000</td>\n",
       "      <td>240.0</td>\n",
       "      <td>1.0</td>\n",
       "      <td>2</td>\n",
       "      <td>1</td>\n",
       "      <td>867.823233</td>\n",
       "      <td>0.241330</td>\n",
       "      <td>1</td>\n",
       "      <td>1</td>\n",
       "    </tr>\n",
       "    <tr>\n",
       "      <th>17</th>\n",
       "      <td>LP001036</td>\n",
       "      <td>0</td>\n",
       "      <td>0</td>\n",
       "      <td>0.0</td>\n",
       "      <td>0</td>\n",
       "      <td>0</td>\n",
       "      <td>-0.310196</td>\n",
       "      <td>-0.554487</td>\n",
       "      <td>76.000000</td>\n",
       "      <td>360.0</td>\n",
       "      <td>0.0</td>\n",
       "      <td>2</td>\n",
       "      <td>0</td>\n",
       "      <td>584.374248</td>\n",
       "      <td>0.166488</td>\n",
       "      <td>1</td>\n",
       "      <td>0</td>\n",
       "    </tr>\n",
       "    <tr>\n",
       "      <th>18</th>\n",
       "      <td>LP001038</td>\n",
       "      <td>1</td>\n",
       "      <td>1</td>\n",
       "      <td>0.0</td>\n",
       "      <td>1</td>\n",
       "      <td>0</td>\n",
       "      <td>-0.084609</td>\n",
       "      <td>-0.554487</td>\n",
       "      <td>133.000000</td>\n",
       "      <td>360.0</td>\n",
       "      <td>1.0</td>\n",
       "      <td>0</td>\n",
       "      <td>0</td>\n",
       "      <td>1022.654933</td>\n",
       "      <td>0.209260</td>\n",
       "      <td>0</td>\n",
       "      <td>1</td>\n",
       "    </tr>\n",
       "    <tr>\n",
       "      <th>19</th>\n",
       "      <td>LP001041</td>\n",
       "      <td>1</td>\n",
       "      <td>1</td>\n",
       "      <td>0.0</td>\n",
       "      <td>0</td>\n",
       "      <td>0</td>\n",
       "      <td>-0.459277</td>\n",
       "      <td>0.642559</td>\n",
       "      <td>115.000000</td>\n",
       "      <td>360.0</td>\n",
       "      <td>1.0</td>\n",
       "      <td>2</td>\n",
       "      <td>1</td>\n",
       "      <td>884.250506</td>\n",
       "      <td>0.144959</td>\n",
       "      <td>1</td>\n",
       "      <td>1</td>\n",
       "    </tr>\n",
       "    <tr>\n",
       "      <th>20</th>\n",
       "      <td>LP001043</td>\n",
       "      <td>1</td>\n",
       "      <td>1</td>\n",
       "      <td>0.0</td>\n",
       "      <td>1</td>\n",
       "      <td>0</td>\n",
       "      <td>0.369678</td>\n",
       "      <td>-0.554487</td>\n",
       "      <td>104.000000</td>\n",
       "      <td>360.0</td>\n",
       "      <td>0.0</td>\n",
       "      <td>2</td>\n",
       "      <td>0</td>\n",
       "      <td>799.670023</td>\n",
       "      <td>0.104396</td>\n",
       "      <td>1</td>\n",
       "      <td>0</td>\n",
       "    </tr>\n",
       "    <tr>\n",
       "      <th>21</th>\n",
       "      <td>LP001046</td>\n",
       "      <td>1</td>\n",
       "      <td>1</td>\n",
       "      <td>1.0</td>\n",
       "      <td>0</td>\n",
       "      <td>0</td>\n",
       "      <td>0.090356</td>\n",
       "      <td>1.369336</td>\n",
       "      <td>315.000000</td>\n",
       "      <td>360.0</td>\n",
       "      <td>1.0</td>\n",
       "      <td>2</td>\n",
       "      <td>1</td>\n",
       "      <td>2422.077473</td>\n",
       "      <td>0.209160</td>\n",
       "      <td>1</td>\n",
       "      <td>1</td>\n",
       "    </tr>\n",
       "    <tr>\n",
       "      <th>22</th>\n",
       "      <td>LP001047</td>\n",
       "      <td>1</td>\n",
       "      <td>1</td>\n",
       "      <td>0.0</td>\n",
       "      <td>1</td>\n",
       "      <td>0</td>\n",
       "      <td>-0.459277</td>\n",
       "      <td>0.099100</td>\n",
       "      <td>116.000000</td>\n",
       "      <td>360.0</td>\n",
       "      <td>0.0</td>\n",
       "      <td>1</td>\n",
       "      <td>0</td>\n",
       "      <td>891.939641</td>\n",
       "      <td>0.197725</td>\n",
       "      <td>1</td>\n",
       "      <td>0</td>\n",
       "    </tr>\n",
       "    <tr>\n",
       "      <th>23</th>\n",
       "      <td>LP001050</td>\n",
       "      <td>1</td>\n",
       "      <td>1</td>\n",
       "      <td>2.0</td>\n",
       "      <td>1</td>\n",
       "      <td>0</td>\n",
       "      <td>-0.333951</td>\n",
       "      <td>0.101152</td>\n",
       "      <td>112.000000</td>\n",
       "      <td>360.0</td>\n",
       "      <td>0.0</td>\n",
       "      <td>0</td>\n",
       "      <td>0</td>\n",
       "      <td>861.183102</td>\n",
       "      <td>0.163041</td>\n",
       "      <td>1</td>\n",
       "      <td>0</td>\n",
       "    </tr>\n",
       "    <tr>\n",
       "      <th>24</th>\n",
       "      <td>LP001052</td>\n",
       "      <td>1</td>\n",
       "      <td>1</td>\n",
       "      <td>1.0</td>\n",
       "      <td>0</td>\n",
       "      <td>0</td>\n",
       "      <td>-0.276285</td>\n",
       "      <td>0.445901</td>\n",
       "      <td>151.000000</td>\n",
       "      <td>360.0</td>\n",
       "      <td>1.0</td>\n",
       "      <td>1</td>\n",
       "      <td>0</td>\n",
       "      <td>1161.059360</td>\n",
       "      <td>0.174806</td>\n",
       "      <td>0</td>\n",
       "      <td>1</td>\n",
       "    </tr>\n",
       "    <tr>\n",
       "      <th>25</th>\n",
       "      <td>LP001066</td>\n",
       "      <td>1</td>\n",
       "      <td>1</td>\n",
       "      <td>0.0</td>\n",
       "      <td>0</td>\n",
       "      <td>1</td>\n",
       "      <td>0.680946</td>\n",
       "      <td>-0.554487</td>\n",
       "      <td>191.000000</td>\n",
       "      <td>360.0</td>\n",
       "      <td>1.0</td>\n",
       "      <td>1</td>\n",
       "      <td>1</td>\n",
       "      <td>1468.624754</td>\n",
       "      <td>0.153622</td>\n",
       "      <td>1</td>\n",
       "      <td>1</td>\n",
       "    </tr>\n",
       "    <tr>\n",
       "      <th>26</th>\n",
       "      <td>LP001068</td>\n",
       "      <td>1</td>\n",
       "      <td>1</td>\n",
       "      <td>0.0</td>\n",
       "      <td>0</td>\n",
       "      <td>0</td>\n",
       "      <td>-0.426676</td>\n",
       "      <td>0.216068</td>\n",
       "      <td>122.000000</td>\n",
       "      <td>360.0</td>\n",
       "      <td>1.0</td>\n",
       "      <td>1</td>\n",
       "      <td>1</td>\n",
       "      <td>938.074450</td>\n",
       "      <td>0.185684</td>\n",
       "      <td>1</td>\n",
       "      <td>1</td>\n",
       "    </tr>\n",
       "    <tr>\n",
       "      <th>27</th>\n",
       "      <td>LP001073</td>\n",
       "      <td>1</td>\n",
       "      <td>1</td>\n",
       "      <td>2.0</td>\n",
       "      <td>1</td>\n",
       "      <td>0</td>\n",
       "      <td>-0.192898</td>\n",
       "      <td>-0.198794</td>\n",
       "      <td>110.000000</td>\n",
       "      <td>360.0</td>\n",
       "      <td>1.0</td>\n",
       "      <td>2</td>\n",
       "      <td>1</td>\n",
       "      <td>845.804832</td>\n",
       "      <td>0.160616</td>\n",
       "      <td>1</td>\n",
       "      <td>1</td>\n",
       "    </tr>\n",
       "    <tr>\n",
       "      <th>28</th>\n",
       "      <td>LP001086</td>\n",
       "      <td>1</td>\n",
       "      <td>0</td>\n",
       "      <td>0.0</td>\n",
       "      <td>1</td>\n",
       "      <td>0</td>\n",
       "      <td>-0.648987</td>\n",
       "      <td>-0.554487</td>\n",
       "      <td>35.000000</td>\n",
       "      <td>360.0</td>\n",
       "      <td>1.0</td>\n",
       "      <td>2</td>\n",
       "      <td>0</td>\n",
       "      <td>269.119719</td>\n",
       "      <td>0.186629</td>\n",
       "      <td>0</td>\n",
       "      <td>1</td>\n",
       "    </tr>\n",
       "    <tr>\n",
       "      <th>29</th>\n",
       "      <td>LP001087</td>\n",
       "      <td>0</td>\n",
       "      <td>0</td>\n",
       "      <td>2.0</td>\n",
       "      <td>0</td>\n",
       "      <td>0</td>\n",
       "      <td>-0.270878</td>\n",
       "      <td>0.157926</td>\n",
       "      <td>120.000000</td>\n",
       "      <td>360.0</td>\n",
       "      <td>1.0</td>\n",
       "      <td>1</td>\n",
       "      <td>1</td>\n",
       "      <td>922.696180</td>\n",
       "      <td>0.158186</td>\n",
       "      <td>1</td>\n",
       "      <td>1</td>\n",
       "    </tr>\n",
       "    <tr>\n",
       "      <th>...</th>\n",
       "      <td>...</td>\n",
       "      <td>...</td>\n",
       "      <td>...</td>\n",
       "      <td>...</td>\n",
       "      <td>...</td>\n",
       "      <td>...</td>\n",
       "      <td>...</td>\n",
       "      <td>...</td>\n",
       "      <td>...</td>\n",
       "      <td>...</td>\n",
       "      <td>...</td>\n",
       "      <td>...</td>\n",
       "      <td>...</td>\n",
       "      <td>...</td>\n",
       "      <td>...</td>\n",
       "      <td>...</td>\n",
       "      <td>...</td>\n",
       "    </tr>\n",
       "    <tr>\n",
       "      <th>584</th>\n",
       "      <td>LP002911</td>\n",
       "      <td>1</td>\n",
       "      <td>1</td>\n",
       "      <td>1.0</td>\n",
       "      <td>0</td>\n",
       "      <td>0</td>\n",
       "      <td>-0.428642</td>\n",
       "      <td>0.101152</td>\n",
       "      <td>146.000000</td>\n",
       "      <td>360.0</td>\n",
       "      <td>0.0</td>\n",
       "      <td>0</td>\n",
       "      <td>0</td>\n",
       "      <td>1122.613686</td>\n",
       "      <td>0.238651</td>\n",
       "      <td>1</td>\n",
       "      <td>0</td>\n",
       "    </tr>\n",
       "    <tr>\n",
       "      <th>585</th>\n",
       "      <td>LP002912</td>\n",
       "      <td>1</td>\n",
       "      <td>1</td>\n",
       "      <td>1.0</td>\n",
       "      <td>0</td>\n",
       "      <td>0</td>\n",
       "      <td>-0.183560</td>\n",
       "      <td>0.471552</td>\n",
       "      <td>172.000000</td>\n",
       "      <td>84.0</td>\n",
       "      <td>1.0</td>\n",
       "      <td>0</td>\n",
       "      <td>0</td>\n",
       "      <td>2723.875495</td>\n",
       "      <td>0.374005</td>\n",
       "      <td>0</td>\n",
       "      <td>1</td>\n",
       "    </tr>\n",
       "    <tr>\n",
       "      <th>586</th>\n",
       "      <td>LP002916</td>\n",
       "      <td>1</td>\n",
       "      <td>1</td>\n",
       "      <td>0.0</td>\n",
       "      <td>0</td>\n",
       "      <td>0</td>\n",
       "      <td>-0.508916</td>\n",
       "      <td>-0.033943</td>\n",
       "      <td>104.000000</td>\n",
       "      <td>360.0</td>\n",
       "      <td>1.0</td>\n",
       "      <td>2</td>\n",
       "      <td>1</td>\n",
       "      <td>799.670023</td>\n",
       "      <td>0.209393</td>\n",
       "      <td>1</td>\n",
       "      <td>1</td>\n",
       "    </tr>\n",
       "    <tr>\n",
       "      <th>587</th>\n",
       "      <td>LP002917</td>\n",
       "      <td>0</td>\n",
       "      <td>0</td>\n",
       "      <td>0.0</td>\n",
       "      <td>1</td>\n",
       "      <td>0</td>\n",
       "      <td>-0.530541</td>\n",
       "      <td>-0.554487</td>\n",
       "      <td>70.000000</td>\n",
       "      <td>360.0</td>\n",
       "      <td>1.0</td>\n",
       "      <td>1</td>\n",
       "      <td>1</td>\n",
       "      <td>538.239439</td>\n",
       "      <td>0.248609</td>\n",
       "      <td>1</td>\n",
       "      <td>1</td>\n",
       "    </tr>\n",
       "    <tr>\n",
       "      <th>588</th>\n",
       "      <td>LP002925</td>\n",
       "      <td>1</td>\n",
       "      <td>0</td>\n",
       "      <td>0.0</td>\n",
       "      <td>0</td>\n",
       "      <td>0</td>\n",
       "      <td>-0.107053</td>\n",
       "      <td>-0.554487</td>\n",
       "      <td>94.000000</td>\n",
       "      <td>360.0</td>\n",
       "      <td>1.0</td>\n",
       "      <td>1</td>\n",
       "      <td>1</td>\n",
       "      <td>722.778675</td>\n",
       "      <td>0.152164</td>\n",
       "      <td>1</td>\n",
       "      <td>1</td>\n",
       "    </tr>\n",
       "    <tr>\n",
       "      <th>589</th>\n",
       "      <td>LP002926</td>\n",
       "      <td>1</td>\n",
       "      <td>1</td>\n",
       "      <td>2.0</td>\n",
       "      <td>0</td>\n",
       "      <td>1</td>\n",
       "      <td>-0.438635</td>\n",
       "      <td>-0.554487</td>\n",
       "      <td>106.000000</td>\n",
       "      <td>360.0</td>\n",
       "      <td>0.0</td>\n",
       "      <td>1</td>\n",
       "      <td>0</td>\n",
       "      <td>815.048293</td>\n",
       "      <td>0.298991</td>\n",
       "      <td>1</td>\n",
       "      <td>0</td>\n",
       "    </tr>\n",
       "    <tr>\n",
       "      <th>590</th>\n",
       "      <td>LP002928</td>\n",
       "      <td>1</td>\n",
       "      <td>1</td>\n",
       "      <td>0.0</td>\n",
       "      <td>0</td>\n",
       "      <td>0</td>\n",
       "      <td>-0.393747</td>\n",
       "      <td>0.613829</td>\n",
       "      <td>56.000000</td>\n",
       "      <td>180.0</td>\n",
       "      <td>1.0</td>\n",
       "      <td>1</td>\n",
       "      <td>1</td>\n",
       "      <td>551.454152</td>\n",
       "      <td>0.085950</td>\n",
       "      <td>1</td>\n",
       "      <td>1</td>\n",
       "    </tr>\n",
       "    <tr>\n",
       "      <th>591</th>\n",
       "      <td>LP002931</td>\n",
       "      <td>1</td>\n",
       "      <td>1</td>\n",
       "      <td>2.0</td>\n",
       "      <td>0</td>\n",
       "      <td>1</td>\n",
       "      <td>0.097728</td>\n",
       "      <td>-0.554487</td>\n",
       "      <td>205.000000</td>\n",
       "      <td>240.0</td>\n",
       "      <td>1.0</td>\n",
       "      <td>1</td>\n",
       "      <td>0</td>\n",
       "      <td>1779.037628</td>\n",
       "      <td>0.296506</td>\n",
       "      <td>0</td>\n",
       "      <td>1</td>\n",
       "    </tr>\n",
       "    <tr>\n",
       "      <th>592</th>\n",
       "      <td>LP002933</td>\n",
       "      <td>1</td>\n",
       "      <td>0</td>\n",
       "      <td>3.0</td>\n",
       "      <td>0</td>\n",
       "      <td>1</td>\n",
       "      <td>0.647690</td>\n",
       "      <td>-0.554487</td>\n",
       "      <td>292.000000</td>\n",
       "      <td>360.0</td>\n",
       "      <td>1.0</td>\n",
       "      <td>1</td>\n",
       "      <td>1</td>\n",
       "      <td>2245.227372</td>\n",
       "      <td>0.239952</td>\n",
       "      <td>1</td>\n",
       "      <td>1</td>\n",
       "    </tr>\n",
       "    <tr>\n",
       "      <th>593</th>\n",
       "      <td>LP002936</td>\n",
       "      <td>1</td>\n",
       "      <td>1</td>\n",
       "      <td>0.0</td>\n",
       "      <td>0</td>\n",
       "      <td>0</td>\n",
       "      <td>-0.253021</td>\n",
       "      <td>0.574156</td>\n",
       "      <td>142.000000</td>\n",
       "      <td>180.0</td>\n",
       "      <td>1.0</td>\n",
       "      <td>0</td>\n",
       "      <td>1</td>\n",
       "      <td>1398.330172</td>\n",
       "      <td>0.195325</td>\n",
       "      <td>1</td>\n",
       "      <td>1</td>\n",
       "    </tr>\n",
       "    <tr>\n",
       "      <th>594</th>\n",
       "      <td>LP002938</td>\n",
       "      <td>1</td>\n",
       "      <td>1</td>\n",
       "      <td>0.0</td>\n",
       "      <td>0</td>\n",
       "      <td>1</td>\n",
       "      <td>1.755640</td>\n",
       "      <td>-0.554487</td>\n",
       "      <td>260.000000</td>\n",
       "      <td>360.0</td>\n",
       "      <td>1.0</td>\n",
       "      <td>2</td>\n",
       "      <td>1</td>\n",
       "      <td>1999.175057</td>\n",
       "      <td>0.124018</td>\n",
       "      <td>1</td>\n",
       "      <td>1</td>\n",
       "    </tr>\n",
       "    <tr>\n",
       "      <th>595</th>\n",
       "      <td>LP002940</td>\n",
       "      <td>1</td>\n",
       "      <td>0</td>\n",
       "      <td>0.0</td>\n",
       "      <td>1</td>\n",
       "      <td>0</td>\n",
       "      <td>-0.257281</td>\n",
       "      <td>-0.554487</td>\n",
       "      <td>110.000000</td>\n",
       "      <td>360.0</td>\n",
       "      <td>1.0</td>\n",
       "      <td>0</td>\n",
       "      <td>1</td>\n",
       "      <td>845.804832</td>\n",
       "      <td>0.220664</td>\n",
       "      <td>1</td>\n",
       "      <td>1</td>\n",
       "    </tr>\n",
       "    <tr>\n",
       "      <th>596</th>\n",
       "      <td>LP002941</td>\n",
       "      <td>1</td>\n",
       "      <td>1</td>\n",
       "      <td>2.0</td>\n",
       "      <td>1</td>\n",
       "      <td>1</td>\n",
       "      <td>0.160474</td>\n",
       "      <td>-0.212474</td>\n",
       "      <td>187.000000</td>\n",
       "      <td>360.0</td>\n",
       "      <td>1.0</td>\n",
       "      <td>0</td>\n",
       "      <td>0</td>\n",
       "      <td>1437.868214</td>\n",
       "      <td>0.194754</td>\n",
       "      <td>0</td>\n",
       "      <td>1</td>\n",
       "    </tr>\n",
       "    <tr>\n",
       "      <th>597</th>\n",
       "      <td>LP002943</td>\n",
       "      <td>1</td>\n",
       "      <td>0</td>\n",
       "      <td>0.0</td>\n",
       "      <td>0</td>\n",
       "      <td>0</td>\n",
       "      <td>-0.395877</td>\n",
       "      <td>-0.554487</td>\n",
       "      <td>88.000000</td>\n",
       "      <td>360.0</td>\n",
       "      <td>0.0</td>\n",
       "      <td>1</td>\n",
       "      <td>0</td>\n",
       "      <td>676.643866</td>\n",
       "      <td>0.226530</td>\n",
       "      <td>1</td>\n",
       "      <td>0</td>\n",
       "    </tr>\n",
       "    <tr>\n",
       "      <th>598</th>\n",
       "      <td>LP002945</td>\n",
       "      <td>1</td>\n",
       "      <td>1</td>\n",
       "      <td>0.0</td>\n",
       "      <td>0</td>\n",
       "      <td>1</td>\n",
       "      <td>0.746968</td>\n",
       "      <td>-0.554487</td>\n",
       "      <td>180.000000</td>\n",
       "      <td>360.0</td>\n",
       "      <td>1.0</td>\n",
       "      <td>0</td>\n",
       "      <td>1</td>\n",
       "      <td>1384.044270</td>\n",
       "      <td>0.138918</td>\n",
       "      <td>1</td>\n",
       "      <td>1</td>\n",
       "    </tr>\n",
       "    <tr>\n",
       "      <th>599</th>\n",
       "      <td>LP002948</td>\n",
       "      <td>1</td>\n",
       "      <td>1</td>\n",
       "      <td>2.0</td>\n",
       "      <td>0</td>\n",
       "      <td>0</td>\n",
       "      <td>0.061687</td>\n",
       "      <td>-0.554487</td>\n",
       "      <td>192.000000</td>\n",
       "      <td>360.0</td>\n",
       "      <td>1.0</td>\n",
       "      <td>2</td>\n",
       "      <td>1</td>\n",
       "      <td>1476.313888</td>\n",
       "      <td>0.255418</td>\n",
       "      <td>1</td>\n",
       "      <td>1</td>\n",
       "    </tr>\n",
       "    <tr>\n",
       "      <th>600</th>\n",
       "      <td>LP002949</td>\n",
       "      <td>0</td>\n",
       "      <td>0</td>\n",
       "      <td>3.0</td>\n",
       "      <td>0</td>\n",
       "      <td>0</td>\n",
       "      <td>-0.817072</td>\n",
       "      <td>13.696173</td>\n",
       "      <td>350.000000</td>\n",
       "      <td>180.0</td>\n",
       "      <td>1.0</td>\n",
       "      <td>2</td>\n",
       "      <td>0</td>\n",
       "      <td>3446.588453</td>\n",
       "      <td>0.081900</td>\n",
       "      <td>0</td>\n",
       "      <td>0</td>\n",
       "    </tr>\n",
       "    <tr>\n",
       "      <th>601</th>\n",
       "      <td>LP002950</td>\n",
       "      <td>1</td>\n",
       "      <td>1</td>\n",
       "      <td>0.0</td>\n",
       "      <td>1</td>\n",
       "      <td>0</td>\n",
       "      <td>-0.411113</td>\n",
       "      <td>0.400413</td>\n",
       "      <td>155.000000</td>\n",
       "      <td>360.0</td>\n",
       "      <td>1.0</td>\n",
       "      <td>0</td>\n",
       "      <td>1</td>\n",
       "      <td>1191.815900</td>\n",
       "      <td>0.209605</td>\n",
       "      <td>1</td>\n",
       "      <td>1</td>\n",
       "    </tr>\n",
       "    <tr>\n",
       "      <th>602</th>\n",
       "      <td>LP002953</td>\n",
       "      <td>1</td>\n",
       "      <td>1</td>\n",
       "      <td>3.0</td>\n",
       "      <td>0</td>\n",
       "      <td>0</td>\n",
       "      <td>0.049072</td>\n",
       "      <td>-0.554487</td>\n",
       "      <td>128.000000</td>\n",
       "      <td>360.0</td>\n",
       "      <td>1.0</td>\n",
       "      <td>2</td>\n",
       "      <td>1</td>\n",
       "      <td>984.209259</td>\n",
       "      <td>0.172577</td>\n",
       "      <td>1</td>\n",
       "      <td>1</td>\n",
       "    </tr>\n",
       "    <tr>\n",
       "      <th>603</th>\n",
       "      <td>LP002958</td>\n",
       "      <td>1</td>\n",
       "      <td>0</td>\n",
       "      <td>0.0</td>\n",
       "      <td>0</td>\n",
       "      <td>0</td>\n",
       "      <td>-0.283001</td>\n",
       "      <td>0.916511</td>\n",
       "      <td>172.000000</td>\n",
       "      <td>360.0</td>\n",
       "      <td>1.0</td>\n",
       "      <td>0</td>\n",
       "      <td>1</td>\n",
       "      <td>1322.531192</td>\n",
       "      <td>0.165793</td>\n",
       "      <td>1</td>\n",
       "      <td>1</td>\n",
       "    </tr>\n",
       "    <tr>\n",
       "      <th>604</th>\n",
       "      <td>LP002959</td>\n",
       "      <td>0</td>\n",
       "      <td>1</td>\n",
       "      <td>1.0</td>\n",
       "      <td>0</td>\n",
       "      <td>0</td>\n",
       "      <td>1.080680</td>\n",
       "      <td>-0.554487</td>\n",
       "      <td>496.000000</td>\n",
       "      <td>360.0</td>\n",
       "      <td>1.0</td>\n",
       "      <td>1</td>\n",
       "      <td>1</td>\n",
       "      <td>3813.810879</td>\n",
       "      <td>0.317818</td>\n",
       "      <td>1</td>\n",
       "      <td>1</td>\n",
       "    </tr>\n",
       "    <tr>\n",
       "      <th>605</th>\n",
       "      <td>LP002960</td>\n",
       "      <td>1</td>\n",
       "      <td>1</td>\n",
       "      <td>0.0</td>\n",
       "      <td>1</td>\n",
       "      <td>0</td>\n",
       "      <td>-0.492042</td>\n",
       "      <td>0.745163</td>\n",
       "      <td>141.971362</td>\n",
       "      <td>180.0</td>\n",
       "      <td>1.0</td>\n",
       "      <td>2</td>\n",
       "      <td>0</td>\n",
       "      <td>1398.048165</td>\n",
       "      <td>0.225492</td>\n",
       "      <td>0</td>\n",
       "      <td>1</td>\n",
       "    </tr>\n",
       "    <tr>\n",
       "      <th>606</th>\n",
       "      <td>LP002961</td>\n",
       "      <td>1</td>\n",
       "      <td>1</td>\n",
       "      <td>1.0</td>\n",
       "      <td>0</td>\n",
       "      <td>0</td>\n",
       "      <td>-0.328217</td>\n",
       "      <td>0.300545</td>\n",
       "      <td>173.000000</td>\n",
       "      <td>360.0</td>\n",
       "      <td>1.0</td>\n",
       "      <td>1</td>\n",
       "      <td>1</td>\n",
       "      <td>1330.220327</td>\n",
       "      <td>0.225461</td>\n",
       "      <td>1</td>\n",
       "      <td>1</td>\n",
       "    </tr>\n",
       "    <tr>\n",
       "      <th>607</th>\n",
       "      <td>LP002964</td>\n",
       "      <td>1</td>\n",
       "      <td>1</td>\n",
       "      <td>2.0</td>\n",
       "      <td>1</td>\n",
       "      <td>0</td>\n",
       "      <td>-0.232052</td>\n",
       "      <td>-0.071907</td>\n",
       "      <td>157.000000</td>\n",
       "      <td>360.0</td>\n",
       "      <td>1.0</td>\n",
       "      <td>0</td>\n",
       "      <td>1</td>\n",
       "      <td>1207.194169</td>\n",
       "      <td>0.223637</td>\n",
       "      <td>1</td>\n",
       "      <td>1</td>\n",
       "    </tr>\n",
       "    <tr>\n",
       "      <th>608</th>\n",
       "      <td>LP002974</td>\n",
       "      <td>1</td>\n",
       "      <td>1</td>\n",
       "      <td>0.0</td>\n",
       "      <td>0</td>\n",
       "      <td>0</td>\n",
       "      <td>-0.355740</td>\n",
       "      <td>0.112438</td>\n",
       "      <td>108.000000</td>\n",
       "      <td>360.0</td>\n",
       "      <td>1.0</td>\n",
       "      <td>0</td>\n",
       "      <td>1</td>\n",
       "      <td>830.426562</td>\n",
       "      <td>0.160252</td>\n",
       "      <td>1</td>\n",
       "      <td>1</td>\n",
       "    </tr>\n",
       "    <tr>\n",
       "      <th>609</th>\n",
       "      <td>LP002978</td>\n",
       "      <td>0</td>\n",
       "      <td>0</td>\n",
       "      <td>0.0</td>\n",
       "      <td>0</td>\n",
       "      <td>0</td>\n",
       "      <td>-0.410130</td>\n",
       "      <td>-0.554487</td>\n",
       "      <td>71.000000</td>\n",
       "      <td>360.0</td>\n",
       "      <td>1.0</td>\n",
       "      <td>0</td>\n",
       "      <td>1</td>\n",
       "      <td>545.928573</td>\n",
       "      <td>0.188251</td>\n",
       "      <td>1</td>\n",
       "      <td>1</td>\n",
       "    </tr>\n",
       "    <tr>\n",
       "      <th>610</th>\n",
       "      <td>LP002979</td>\n",
       "      <td>1</td>\n",
       "      <td>1</td>\n",
       "      <td>3.0</td>\n",
       "      <td>0</td>\n",
       "      <td>0</td>\n",
       "      <td>-0.212557</td>\n",
       "      <td>-0.554487</td>\n",
       "      <td>40.000000</td>\n",
       "      <td>180.0</td>\n",
       "      <td>1.0</td>\n",
       "      <td>0</td>\n",
       "      <td>1</td>\n",
       "      <td>393.895823</td>\n",
       "      <td>0.095932</td>\n",
       "      <td>1</td>\n",
       "      <td>1</td>\n",
       "    </tr>\n",
       "    <tr>\n",
       "      <th>611</th>\n",
       "      <td>LP002983</td>\n",
       "      <td>1</td>\n",
       "      <td>1</td>\n",
       "      <td>1.0</td>\n",
       "      <td>0</td>\n",
       "      <td>0</td>\n",
       "      <td>0.437174</td>\n",
       "      <td>-0.472404</td>\n",
       "      <td>253.000000</td>\n",
       "      <td>360.0</td>\n",
       "      <td>1.0</td>\n",
       "      <td>2</td>\n",
       "      <td>1</td>\n",
       "      <td>1945.351113</td>\n",
       "      <td>0.234041</td>\n",
       "      <td>1</td>\n",
       "      <td>1</td>\n",
       "    </tr>\n",
       "    <tr>\n",
       "      <th>612</th>\n",
       "      <td>LP002984</td>\n",
       "      <td>1</td>\n",
       "      <td>1</td>\n",
       "      <td>2.0</td>\n",
       "      <td>0</td>\n",
       "      <td>0</td>\n",
       "      <td>0.357064</td>\n",
       "      <td>-0.554487</td>\n",
       "      <td>187.000000</td>\n",
       "      <td>360.0</td>\n",
       "      <td>1.0</td>\n",
       "      <td>2</td>\n",
       "      <td>1</td>\n",
       "      <td>1437.868214</td>\n",
       "      <td>0.189617</td>\n",
       "      <td>1</td>\n",
       "      <td>1</td>\n",
       "    </tr>\n",
       "    <tr>\n",
       "      <th>613</th>\n",
       "      <td>LP002990</td>\n",
       "      <td>0</td>\n",
       "      <td>0</td>\n",
       "      <td>0.0</td>\n",
       "      <td>0</td>\n",
       "      <td>1</td>\n",
       "      <td>-0.134412</td>\n",
       "      <td>-0.554487</td>\n",
       "      <td>133.000000</td>\n",
       "      <td>360.0</td>\n",
       "      <td>0.0</td>\n",
       "      <td>1</td>\n",
       "      <td>0</td>\n",
       "      <td>1022.654933</td>\n",
       "      <td>0.223141</td>\n",
       "      <td>1</td>\n",
       "      <td>0</td>\n",
       "    </tr>\n",
       "  </tbody>\n",
       "</table>\n",
       "<p>614 rows × 17 columns</p>\n",
       "</div>"
      ],
      "text/plain": [
       "      Loan_ID  Gender  Married  Dependents  Education  Self_Employed  \\\n",
       "0    LP001002       1        0         0.0          0              0   \n",
       "1    LP001003       1        1         1.0          0              0   \n",
       "2    LP001005       1        1         0.0          0              1   \n",
       "3    LP001006       1        1         0.0          1              0   \n",
       "4    LP001008       1        0         0.0          0              0   \n",
       "5    LP001011       1        1         2.0          0              1   \n",
       "6    LP001013       1        1         0.0          1              0   \n",
       "7    LP001014       1        1         3.0          0              0   \n",
       "8    LP001018       1        1         2.0          0              0   \n",
       "9    LP001020       1        1         1.0          0              0   \n",
       "10   LP001024       1        1         2.0          0              0   \n",
       "11   LP001027       1        1         2.0          0              0   \n",
       "12   LP001028       1        1         2.0          0              0   \n",
       "13   LP001029       1        0         0.0          0              0   \n",
       "14   LP001030       1        1         2.0          0              0   \n",
       "15   LP001032       1        0         0.0          0              0   \n",
       "16   LP001034       1        0         1.0          1              0   \n",
       "17   LP001036       0        0         0.0          0              0   \n",
       "18   LP001038       1        1         0.0          1              0   \n",
       "19   LP001041       1        1         0.0          0              0   \n",
       "20   LP001043       1        1         0.0          1              0   \n",
       "21   LP001046       1        1         1.0          0              0   \n",
       "22   LP001047       1        1         0.0          1              0   \n",
       "23   LP001050       1        1         2.0          1              0   \n",
       "24   LP001052       1        1         1.0          0              0   \n",
       "25   LP001066       1        1         0.0          0              1   \n",
       "26   LP001068       1        1         0.0          0              0   \n",
       "27   LP001073       1        1         2.0          1              0   \n",
       "28   LP001086       1        0         0.0          1              0   \n",
       "29   LP001087       0        0         2.0          0              0   \n",
       "..        ...     ...      ...         ...        ...            ...   \n",
       "584  LP002911       1        1         1.0          0              0   \n",
       "585  LP002912       1        1         1.0          0              0   \n",
       "586  LP002916       1        1         0.0          0              0   \n",
       "587  LP002917       0        0         0.0          1              0   \n",
       "588  LP002925       1        0         0.0          0              0   \n",
       "589  LP002926       1        1         2.0          0              1   \n",
       "590  LP002928       1        1         0.0          0              0   \n",
       "591  LP002931       1        1         2.0          0              1   \n",
       "592  LP002933       1        0         3.0          0              1   \n",
       "593  LP002936       1        1         0.0          0              0   \n",
       "594  LP002938       1        1         0.0          0              1   \n",
       "595  LP002940       1        0         0.0          1              0   \n",
       "596  LP002941       1        1         2.0          1              1   \n",
       "597  LP002943       1        0         0.0          0              0   \n",
       "598  LP002945       1        1         0.0          0              1   \n",
       "599  LP002948       1        1         2.0          0              0   \n",
       "600  LP002949       0        0         3.0          0              0   \n",
       "601  LP002950       1        1         0.0          1              0   \n",
       "602  LP002953       1        1         3.0          0              0   \n",
       "603  LP002958       1        0         0.0          0              0   \n",
       "604  LP002959       0        1         1.0          0              0   \n",
       "605  LP002960       1        1         0.0          1              0   \n",
       "606  LP002961       1        1         1.0          0              0   \n",
       "607  LP002964       1        1         2.0          1              0   \n",
       "608  LP002974       1        1         0.0          0              0   \n",
       "609  LP002978       0        0         0.0          0              0   \n",
       "610  LP002979       1        1         3.0          0              0   \n",
       "611  LP002983       1        1         1.0          0              0   \n",
       "612  LP002984       1        1         2.0          0              0   \n",
       "613  LP002990       0        0         0.0          0              1   \n",
       "\n",
       "     ApplicantIncome  CoapplicantIncome  LoanAmount  Loan_Amount_Term  \\\n",
       "0           0.072991          -0.554487  112.781022             360.0   \n",
       "1          -0.134412          -0.038732  128.000000             360.0   \n",
       "2          -0.393747          -0.554487   66.000000             360.0   \n",
       "3          -0.462062           0.251980  120.000000             360.0   \n",
       "4           0.097728          -0.554487  141.000000             360.0   \n",
       "5           0.002218           0.880600  267.000000             360.0   \n",
       "6          -0.503019          -0.035995   95.000000             360.0   \n",
       "7          -0.387850           0.301914  158.000000             360.0   \n",
       "8          -0.228939          -0.032575  168.000000             360.0   \n",
       "9           1.218457           3.196713  349.000000             360.0   \n",
       "10         -0.360982          -0.315078   70.000000             360.0   \n",
       "11         -0.475660           0.074817  109.000000             360.0   \n",
       "12         -0.381788           2.217871  200.000000             360.0   \n",
       "13         -0.581655           0.416830  114.000000             360.0   \n",
       "14         -0.672414          -0.183061   17.000000             120.0   \n",
       "15         -0.074288          -0.554487  125.000000             360.0   \n",
       "16         -0.296107          -0.554487  100.000000             240.0   \n",
       "17         -0.310196          -0.554487   76.000000             360.0   \n",
       "18         -0.084609          -0.554487  133.000000             360.0   \n",
       "19         -0.459277           0.642559  115.000000             360.0   \n",
       "20          0.369678          -0.554487  104.000000             360.0   \n",
       "21          0.090356           1.369336  315.000000             360.0   \n",
       "22         -0.459277           0.099100  116.000000             360.0   \n",
       "23         -0.333951           0.101152  112.000000             360.0   \n",
       "24         -0.276285           0.445901  151.000000             360.0   \n",
       "25          0.680946          -0.554487  191.000000             360.0   \n",
       "26         -0.426676           0.216068  122.000000             360.0   \n",
       "27         -0.192898          -0.198794  110.000000             360.0   \n",
       "28         -0.648987          -0.554487   35.000000             360.0   \n",
       "29         -0.270878           0.157926  120.000000             360.0   \n",
       "..               ...                ...         ...               ...   \n",
       "584        -0.428642           0.101152  146.000000             360.0   \n",
       "585        -0.183560           0.471552  172.000000              84.0   \n",
       "586        -0.508916          -0.033943  104.000000             360.0   \n",
       "587        -0.530541          -0.554487   70.000000             360.0   \n",
       "588        -0.107053          -0.554487   94.000000             360.0   \n",
       "589        -0.438635          -0.554487  106.000000             360.0   \n",
       "590        -0.393747           0.613829   56.000000             180.0   \n",
       "591         0.097728          -0.554487  205.000000             240.0   \n",
       "592         0.647690          -0.554487  292.000000             360.0   \n",
       "593        -0.253021           0.574156  142.000000             180.0   \n",
       "594         1.755640          -0.554487  260.000000             360.0   \n",
       "595        -0.257281          -0.554487  110.000000             360.0   \n",
       "596         0.160474          -0.212474  187.000000             360.0   \n",
       "597        -0.395877          -0.554487   88.000000             360.0   \n",
       "598         0.746968          -0.554487  180.000000             360.0   \n",
       "599         0.061687          -0.554487  192.000000             360.0   \n",
       "600        -0.817072          13.696173  350.000000             180.0   \n",
       "601        -0.411113           0.400413  155.000000             360.0   \n",
       "602         0.049072          -0.554487  128.000000             360.0   \n",
       "603        -0.283001           0.916511  172.000000             360.0   \n",
       "604         1.080680          -0.554487  496.000000             360.0   \n",
       "605        -0.492042           0.745163  141.971362             180.0   \n",
       "606        -0.328217           0.300545  173.000000             360.0   \n",
       "607        -0.232052          -0.071907  157.000000             360.0   \n",
       "608        -0.355740           0.112438  108.000000             360.0   \n",
       "609        -0.410130          -0.554487   71.000000             360.0   \n",
       "610        -0.212557          -0.554487   40.000000             180.0   \n",
       "611         0.437174          -0.472404  253.000000             360.0   \n",
       "612         0.357064          -0.554487  187.000000             360.0   \n",
       "613        -0.134412          -0.554487  133.000000             360.0   \n",
       "\n",
       "     Credit_History  Property_Area  Loan_Status          EMI       DTI  \\\n",
       "0               1.0              2            1   867.188486  0.148263   \n",
       "1               1.0              0            0   984.209259  0.161584   \n",
       "2               1.0              2            1   507.482899  0.169161   \n",
       "3               1.0              2            1   922.696180  0.186743   \n",
       "4               1.0              2            1  1084.168012  0.180695   \n",
       "5               1.0              2            1  2052.999001  0.213565   \n",
       "6               1.0              2            1   730.467809  0.189781   \n",
       "7               0.0              1            0  1214.883304  0.219293   \n",
       "8               1.0              2            1  1291.774652  0.233510   \n",
       "9               1.0              1            0  2683.508058  0.112710   \n",
       "10              1.0              2            1   538.239439  0.138010   \n",
       "11              1.0              2            1   838.115697  0.193114   \n",
       "12              1.0              2            1  1537.826967  0.137564   \n",
       "13              1.0              0            0   876.561371  0.186781   \n",
       "14              1.0              2            1   210.775671  0.088376   \n",
       "15              1.0              2            1   961.141854  0.194170   \n",
       "16              1.0              2            1   867.823233  0.241330   \n",
       "17              0.0              2            0   584.374248  0.166488   \n",
       "18              1.0              0            0  1022.654933  0.209260   \n",
       "19              1.0              2            1   884.250506  0.144959   \n",
       "20              0.0              2            0   799.670023  0.104396   \n",
       "21              1.0              2            1  2422.077473  0.209160   \n",
       "22              0.0              1            0   891.939641  0.197725   \n",
       "23              0.0              0            0   861.183102  0.163041   \n",
       "24              1.0              1            0  1161.059360  0.174806   \n",
       "25              1.0              1            1  1468.624754  0.153622   \n",
       "26              1.0              1            1   938.074450  0.185684   \n",
       "27              1.0              2            1   845.804832  0.160616   \n",
       "28              1.0              2            0   269.119719  0.186629   \n",
       "29              1.0              1            1   922.696180  0.158186   \n",
       "..              ...            ...          ...          ...       ...   \n",
       "584             0.0              0            0  1122.613686  0.238651   \n",
       "585             1.0              0            0  2723.875495  0.374005   \n",
       "586             1.0              2            1   799.670023  0.209393   \n",
       "587             1.0              1            1   538.239439  0.248609   \n",
       "588             1.0              1            1   722.778675  0.152164   \n",
       "589             0.0              1            0   815.048293  0.298991   \n",
       "590             1.0              1            1   551.454152  0.085950   \n",
       "591             1.0              1            0  1779.037628  0.296506   \n",
       "592             1.0              1            1  2245.227372  0.239952   \n",
       "593             1.0              0            1  1398.330172  0.195325   \n",
       "594             1.0              2            1  1999.175057  0.124018   \n",
       "595             1.0              0            1   845.804832  0.220664   \n",
       "596             1.0              0            0  1437.868214  0.194754   \n",
       "597             0.0              1            0   676.643866  0.226530   \n",
       "598             1.0              0            1  1384.044270  0.138918   \n",
       "599             1.0              2            1  1476.313888  0.255418   \n",
       "600             1.0              2            0  3446.588453  0.081900   \n",
       "601             1.0              0            1  1191.815900  0.209605   \n",
       "602             1.0              2            1   984.209259  0.172577   \n",
       "603             1.0              0            1  1322.531192  0.165793   \n",
       "604             1.0              1            1  3813.810879  0.317818   \n",
       "605             1.0              2            0  1398.048165  0.225492   \n",
       "606             1.0              1            1  1330.220327  0.225461   \n",
       "607             1.0              0            1  1207.194169  0.223637   \n",
       "608             1.0              0            1   830.426562  0.160252   \n",
       "609             1.0              0            1   545.928573  0.188251   \n",
       "610             1.0              0            1   393.895823  0.095932   \n",
       "611             1.0              2            1  1945.351113  0.234041   \n",
       "612             1.0              2            1  1437.868214  0.189617   \n",
       "613             0.0              1            0  1022.654933  0.223141   \n",
       "\n",
       "     baseline_pred_correct  prediction  \n",
       "0                        1           1  \n",
       "1                        0           1  \n",
       "2                        1           1  \n",
       "3                        1           1  \n",
       "4                        1           1  \n",
       "5                        1           1  \n",
       "6                        1           1  \n",
       "7                        1           0  \n",
       "8                        1           1  \n",
       "9                        0           1  \n",
       "10                       1           1  \n",
       "11                       1           1  \n",
       "12                       1           1  \n",
       "13                       0           1  \n",
       "14                       1           1  \n",
       "15                       1           1  \n",
       "16                       1           1  \n",
       "17                       1           0  \n",
       "18                       0           1  \n",
       "19                       1           1  \n",
       "20                       1           0  \n",
       "21                       1           1  \n",
       "22                       1           0  \n",
       "23                       1           0  \n",
       "24                       0           1  \n",
       "25                       1           1  \n",
       "26                       1           1  \n",
       "27                       1           1  \n",
       "28                       0           1  \n",
       "29                       1           1  \n",
       "..                     ...         ...  \n",
       "584                      1           0  \n",
       "585                      0           1  \n",
       "586                      1           1  \n",
       "587                      1           1  \n",
       "588                      1           1  \n",
       "589                      1           0  \n",
       "590                      1           1  \n",
       "591                      0           1  \n",
       "592                      1           1  \n",
       "593                      1           1  \n",
       "594                      1           1  \n",
       "595                      1           1  \n",
       "596                      0           1  \n",
       "597                      1           0  \n",
       "598                      1           1  \n",
       "599                      1           1  \n",
       "600                      0           0  \n",
       "601                      1           1  \n",
       "602                      1           1  \n",
       "603                      1           1  \n",
       "604                      1           1  \n",
       "605                      0           1  \n",
       "606                      1           1  \n",
       "607                      1           1  \n",
       "608                      1           1  \n",
       "609                      1           1  \n",
       "610                      1           1  \n",
       "611                      1           1  \n",
       "612                      1           1  \n",
       "613                      1           0  \n",
       "\n",
       "[614 rows x 17 columns]"
      ]
     },
     "execution_count": 1232,
     "metadata": {},
     "output_type": "execute_result"
    }
   ],
   "source": [
    "train_clean"
   ]
  },
  {
   "cell_type": "markdown",
   "metadata": {},
   "source": [
    "It seems as if the algorithm has a tough time predicting the cases where a rejection happened despite a satisfactory credit history. Hence it becomes important to analyze these cases in detail if we have to predict them correctly on a new data set. Lets isolate these special cases where good credit history did not help the application"
   ]
  },
  {
   "cell_type": "code",
   "execution_count": 1235,
   "metadata": {
    "collapsed": false
   },
   "outputs": [
    {
     "data": {
      "text/plain": [
       "(110, 17)"
      ]
     },
     "execution_count": 1235,
     "metadata": {},
     "output_type": "execute_result"
    }
   ],
   "source": [
    "train_special= train_clean[(train_clean[\"Credit_History\"]==1)&(train_clean[\"Loan_Status\"]==0)]\n",
    "train_special.shape"
   ]
  },
  {
   "cell_type": "code",
   "execution_count": 1236,
   "metadata": {
    "collapsed": false
   },
   "outputs": [
    {
     "data": {
      "text/plain": [
       "107"
      ]
     },
     "execution_count": 1236,
     "metadata": {},
     "output_type": "execute_result"
    }
   ],
   "source": [
    "train_special[\"prediction\"].sum() #This sum gives the total number of positive predictions of approval, when loans were rejected"
   ]
  },
  {
   "cell_type": "markdown",
   "metadata": {},
   "source": [
    "Out of the 110 special cases, the logistic regression algorithm got 107 of them wrong, even in the training set. We need to explore these special groups to look for any particular reason behind the rejection of these applications. Besdies, for any future algorithm we train, we need to check its accuracy in predicting these special cases. We cannot just use training set to check for the algorithms ability in predicting these special cases, because algorithms might overfit these cases in the training set. Hence the best approach would be to split our training data further into a smaller  training and test (80-20), and use that test set to check for the algorithm's efficacy. Below is a function which does the same. "
   ]
  },
  {
   "cell_type": "code",
   "execution_count": 1134,
   "metadata": {
    "collapsed": false
   },
   "outputs": [],
   "source": [
    "def test_special_cases(model,subtrain,subtest,features):\n",
    "    classify(model,subtrain,features,target,CV=True)\n",
    "    subtest[\"prediction\"] = model.predict(subtest[features])\n",
    "    subtest_special = subtest[(subtest[\"Credit_History\"]==1)&(subtest[\"Loan_Status\"]==0)]\n",
    "#    display(subtest_special.shape[0])\n",
    "#    display(subtest_special[\"prediction\"].sum())\n",
    "    display(\"accuracy on special cases:\")\n",
    "    return(1-((subtest_special[\"prediction\"].sum())/(subtest_special.shape[0])))\n",
    "## Note: subtest_special is a dataframe with all values of Loan_Status 0 and all values of Credit_History 1.(The special cases)\n",
    "## Hence, a 100% accurate classifier should have all 0 values for \"prediction\" column. \n",
    "## Therefore, subtest_special[\"prediction].sum()/subtest_special.shape[0] yields the proportion of wrong predictions in \n",
    "## special cases, and 1 - this value gives the accuracy of prediction on special cases\n",
    "\n"
   ]
  },
  {
   "cell_type": "code",
   "execution_count": 1135,
   "metadata": {
    "collapsed": true
   },
   "outputs": [],
   "source": [
    "## split the trainig data futher into a smaller training and test set with a 80-20 ratio\n",
    "msk = np.random.rand(len(train_clean)) < 0.8\n",
    "sub_train = train_clean[msk]\n",
    "sub_test = train_clean[~msk]"
   ]
  },
  {
   "cell_type": "code",
   "execution_count": 1136,
   "metadata": {
    "collapsed": false
   },
   "outputs": [
    {
     "name": "stdout",
     "output_type": "stream",
     "text": [
      "Prediction Accuracy on Trainig Set\n",
      "0.821501014199\n",
      "Cross Validation Score\n",
      "0.817501546073\n"
     ]
    },
    {
     "data": {
      "text/plain": [
       "'accuracy on special cases:'"
      ]
     },
     "metadata": {},
     "output_type": "display_data"
    },
    {
     "data": {
      "text/plain": [
       "0.03703703703703709"
      ]
     },
     "metadata": {},
     "output_type": "display_data"
    }
   ],
   "source": [
    "#tree_model =  DecisionTreeClassifier(max_depth=5,min_samples_split = 250)\n",
    "#features = [\"Gender\",\"Married\",\"Dependents\",\"Education\",\"Self_Employed\",\"ApplicantIncome\",\"CoapplicantIncome\",\"Credit_History\",\"Property_Area\",\"DTI\"]\n",
    "log_reg_sp_acc = test_special_cases(log_reg_model,sub_train,sub_test,features)\n",
    "display(log_reg_sp_acc)\n",
    "#display(DT_sp_acc)\n",
    "#features    "
   ]
  },
  {
   "cell_type": "markdown",
   "metadata": {},
   "source": [
    "The logistic regression model has very low  accuracy in predicting the special cases correctly. Let us now use a decision tree classifier and see if it does any better. This is done below"
   ]
  },
  {
   "cell_type": "code",
   "execution_count": 1137,
   "metadata": {
    "collapsed": false
   },
   "outputs": [
    {
     "name": "stdout",
     "output_type": "stream",
     "text": [
      "Prediction Accuracy on Trainig Set\n",
      "0.831643002028\n",
      "Cross Validation Score\n",
      "0.813502370645\n"
     ]
    },
    {
     "data": {
      "text/plain": [
       "'accuracy on special cases:'"
      ]
     },
     "metadata": {},
     "output_type": "display_data"
    },
    {
     "data": {
      "text/plain": [
       "0.14814814814814814"
      ]
     },
     "metadata": {},
     "output_type": "display_data"
    }
   ],
   "source": [
    "tree_model =  DecisionTreeClassifier(max_depth=4,min_samples_split = 100)\n",
    "DT_sp_acc = test_special_cases(tree_model,sub_train,sub_test,features)\n",
    "display(DT_sp_acc)"
   ]
  },
  {
   "cell_type": "markdown",
   "metadata": {},
   "source": [
    "The decision tree classifier seems to be doing slightly better, in that it is obtaining a similar cross-validation accuracy as the logistic regression classifier, however, a better accuracy on the special cases. The similar CV - accuracy with logistic regression coupled with increased accuracy on special cases is saying that the decision tree classifier is getting wrong some cases which logistic regression was predicting correctly. Let us now check the performance of a randomforest classifier"
   ]
  },
  {
   "cell_type": "code",
   "execution_count": 1140,
   "metadata": {
    "collapsed": false
   },
   "outputs": [
    {
     "name": "stdout",
     "output_type": "stream",
     "text": [
      "Prediction Accuracy on Trainig Set\n",
      "0.809330628803\n",
      "Cross Validation Score\n",
      "0.80729746444\n"
     ]
    },
    {
     "data": {
      "text/plain": [
       "'accuracy on special cases:'"
      ]
     },
     "metadata": {},
     "output_type": "display_data"
    },
    {
     "data": {
      "text/plain": [
       "0.07407407407407407"
      ]
     },
     "metadata": {},
     "output_type": "display_data"
    }
   ],
   "source": [
    "from sklearn.ensemble import RandomForestClassifier\n",
    "RF_model = RandomForestClassifier(n_estimators=10,max_depth=4,min_samples_split = 100)\n",
    "RF_sp_acc = test_special_cases(RF_model,sub_train,sub_test,features)\n",
    "display(RF_sp_acc)"
   ]
  },
  {
   "cell_type": "markdown",
   "metadata": {},
   "source": [
    "Although the above random forest model seems to yield 7.5% accuracy on the special cases, we will see that between successive fiting of random forest, this accuracy value fluctuates anywhere between 0 and 15%, with 0 occuring more frequently. This shows that the model is not very robust when it comes to predicting the special cases accurately. It could be that the model is not tuned properly, but in any case it will be worthwhile to investigate the this special cases in detail manually. Let us do that now. For all the figures and corresponding analyzes given below, we will classify the data into two groups. The \"normal group\" contains those applications which were accepted with a good credit history, while the \"special group\" has those applications which were rejected despite a good credit history."
   ]
  },
  {
   "cell_type": "code",
   "execution_count": 1213,
   "metadata": {
    "collapsed": false
   },
   "outputs": [],
   "source": [
    "train_special = all_data[(all_data[\"Credit_History\"]==1)&(all_data[\"Loan_Status\"]==\"N\")]\n",
    "train_normal = all_data[(all_data[\"Credit_History\"]==1)&(all_data[\"Loan_Status\"]==\"Y\")]"
   ]
  },
  {
   "cell_type": "code",
   "execution_count": 1210,
   "metadata": {
    "collapsed": false
   },
   "outputs": [
    {
     "data": {
      "text/plain": [
       "<matplotlib.text.Text at 0x12443f0f0>"
      ]
     },
     "execution_count": 1210,
     "metadata": {},
     "output_type": "execute_result"
    },
    {
     "data": {
      "image/png": "[encoded data removed]",
      "text/plain": [
       "<matplotlib.figure.Figure at 0x1175d2748>"
      ]
     },
     "metadata": {},
     "output_type": "display_data"
    }
   ],
   "source": [
    "fig = plt.figure()\n",
    "ax1 = plt.subplot(121)\n",
    "ax2 = plt.subplot(122)\n",
    "total_applicants = 110.0\n",
    "plt1 = (train_special[\"Gender\"].value_counts()/(train_special.shape[0])*100).plot(kind=\"bar\",ax=ax1,title=\"Special Group\")\n",
    "plt1.set_ylabel(\"Percentage of applicants\")\n",
    "plt2 = (train_normal[\"Gender\"].value_counts()/(train_normal.shape[0])*100).plot(kind=\"bar\",ax=ax2,title=\"Normal Group\")\n",
    "plt2.set_ylabel(\"Percentage of applicants\")\n",
    "\n"
   ]
  },
  {
   "cell_type": "markdown",
   "metadata": {},
   "source": [
    "**Fig 15. Proportion of males and females in the special group compared to normal group**"
   ]
  },
  {
   "cell_type": "code",
   "execution_count": 1220,
   "metadata": {
    "collapsed": false
   },
   "outputs": [
    {
     "data": {
      "text/plain": [
       "<matplotlib.text.Text at 0x127bb1ba8>"
      ]
     },
     "execution_count": 1220,
     "metadata": {},
     "output_type": "execute_result"
    },
    {
     "data": {
      "image/png": "[encoded data removed]",
      "text/plain": [
       "<matplotlib.figure.Figure at 0x12799a390>"
      ]
     },
     "metadata": {},
     "output_type": "display_data"
    },
    {
     "data": {
      "image/png": "[encoded data removed]",
      "text/plain": [
       "<matplotlib.figure.Figure at 0x1279da748>"
      ]
     },
     "metadata": {},
     "output_type": "display_data"
    }
   ],
   "source": [
    "fig1 = plt.figure()\n",
    "total_applicants = train_special.shape[0]\n",
    "mm_spec = (train_special.groupby(\"Gender\").get_group(\"Male\")[\"Married\"].value_counts()[0])*100/total_applicants\n",
    "mu_spec = (train_special.groupby(\"Gender\").get_group(\"Male\")[\"Married\"].value_counts()[1])*100/total_applicants\n",
    "fm_spec = (train_special.groupby(\"Gender\").get_group(\"Female\")[\"Married\"].value_counts()[0])*100/total_applicants\n",
    "fu_spec = (train_special.groupby(\"Gender\").get_group(\"Female\")[\"Married\"].value_counts()[1])*100/total_applicants\n",
    "\n",
    "plot_list1 = {'Male, Married':mm_spec,'Male, Unmarried':mu_spec,'Female, Married':fm_spec,'Female, Unmarried':fu_spec}\n",
    "plt.bar(range(len(plot_list1)),plot_list1.values(),align=\"center\")\n",
    "plt.xticks(range(len(plot_list1)),plot_list1.keys())\n",
    "plt.title(\"Special Group\")\n",
    "plt.ylim(0,70)\n",
    "\n",
    "fig2 = plt.figure()\n",
    "total_applicants = train_normal.shape[0]\n",
    "mm_norm = (train_normal.groupby(\"Gender\").get_group(\"Male\")[\"Married\"].value_counts()[0])*100/total_applicants\n",
    "mu_norm = (train_normal.groupby(\"Gender\").get_group(\"Male\")[\"Married\"].value_counts()[1])*100/total_applicants\n",
    "fm_norm = (train_normal.groupby(\"Gender\").get_group(\"Female\")[\"Married\"].value_counts()[0])*100/total_applicants\n",
    "fu_norm = (train_normal.groupby(\"Gender\").get_group(\"Female\")[\"Married\"].value_counts()[1])*100/total_applicants\n",
    "\n",
    "plot_list2 = {'Male, Married':mm_norm,'Male, Unmarried':mu_norm,'Female, Married':fm_norm,'Female, Unmarried':fu_norm}\n",
    "plt.bar(range(len(plot_list2)),plot_list2.values(),align=\"center\")\n",
    "plt.xticks(range(len(plot_list2)),plot_list2.keys())\n",
    "plt.ylim(0,70)\n",
    "plt.title(\"Normal Group\")\n",
    "\n"
   ]
  },
  {
   "cell_type": "markdown",
   "metadata": {},
   "source": [
    "**Fig 16. Proportion of males and females according to marital status in the normal and special group**"
   ]
  },
  {
   "cell_type": "markdown",
   "metadata": {},
   "source": [
    "The proportion of males in the special group is about the same as that in the normal group. The percentage of males and females according to marital status are also similar (see figure below), though the proportion of married males are slightly lower in the special group than in the normal group, and the percentage of unmarried males is slighthy higher in the special group than in the normal group"
   ]
  },
  {
   "cell_type": "code",
   "execution_count": 1222,
   "metadata": {
    "collapsed": false
   },
   "outputs": [
    {
     "data": {
      "text/plain": [
       "<matplotlib.text.Text at 0x127fc33c8>"
      ]
     },
     "execution_count": 1222,
     "metadata": {},
     "output_type": "execute_result"
    },
    {
     "data": {
      "image/png": "[encoded data removed]",
      "text/plain": [
       "<matplotlib.figure.Figure at 0x127d23da0>"
      ]
     },
     "metadata": {},
     "output_type": "display_data"
    }
   ],
   "source": [
    "fig = plt.figure()\n",
    "ax1 = plt.subplot(121)\n",
    "ax2 = plt.subplot(122)\n",
    "\n",
    "plot1 = (train_special[\"Dependents\"].value_counts()/(train_special.shape[0])*100).plot(kind=\"bar\",ax=ax1,title=\"Special Group\")\n",
    "plot1.set_ylabel(\"Percentage of applicants\")\n",
    "plot1.set_xlabel(\"Number of Dependents\")\n",
    "\n",
    "plot2 = (train_normal[\"Dependents\"].value_counts()/(train_normal.shape[0])*100).plot(kind=\"bar\",ax=ax2,title=\"Normal Group\")\n",
    "plot2.set_ylabel(\"Percentage of applicants\")\n",
    "plot2.set_xlabel(\"Number of Dependents\")"
   ]
  },
  {
   "cell_type": "markdown",
   "metadata": {},
   "source": [
    "**Fig 17. Percentage of applicants according to number of dependents in the normal and special group**"
   ]
  },
  {
   "cell_type": "markdown",
   "metadata": {},
   "source": [
    "The percentage distribution of applicants according to number of dependents are very similar, with a very slight difference seen in the number of applicants with 1 and 2 dependents, although it is only marginal"
   ]
  },
  {
   "cell_type": "code",
   "execution_count": 1228,
   "metadata": {
    "collapsed": false
   },
   "outputs": [
    {
     "data": {
      "image/png": "[encoded data removed]",
      "text/plain": [
       "<matplotlib.figure.Figure at 0x128c094a8>"
      ]
     },
     "metadata": {},
     "output_type": "display_data"
    },
    {
     "data": {
      "image/png": "[encoded data removed]",
      "text/plain": [
       "<matplotlib.figure.Figure at 0x12a37e5f8>"
      ]
     },
     "metadata": {},
     "output_type": "display_data"
    }
   ],
   "source": [
    "fig1 = plt.figure()\n",
    "ax1 = plt.subplot(131)\n",
    "ax2 = plt.subplot(132)\n",
    "ax3 = plt.subplot(133)\n",
    "\n",
    "fig1.tight_layout()\n",
    "total_applicants = train_special.shape[0]\n",
    "plot1 = (train_special[\"Education\"].value_counts()/(total_applicants)*100).plot(kind=\"bar\",ax=ax1)\n",
    "plot1.set_ylabel(\"Percentage of applicants\")\n",
    "#plot1.set_xlabel(\"Education_status\")\n",
    "plot1.set_title(\"Education_status\\n(Special)\")\n",
    "plot1.set_ylim(0,90)\n",
    "\n",
    "plot2 = (train_special[\"Self_Employed\"].value_counts()/(total_applicants)*100).plot(kind=\"bar\",ax=ax2)\n",
    "plot2.set_ylabel(\"Percentage of applicants\")\n",
    "#plot2.set_xlabel(\"Employment_status\")\n",
    "plot2.set_title(\"Self_Employed\\n(Special)\")\n",
    "plot2.set_ylim(0,90)\n",
    "\n",
    "\n",
    "plot3 = (train_special[\"Property_Area\"].value_counts()*100/train_special.shape[0]).plot(kind=\"bar\",ax=ax3,title=\"Property Area\\n(Special)\")\n",
    "\n",
    "fig2 = plt.figure()\n",
    "ax1 = plt.subplot(131)\n",
    "ax2 = plt.subplot(132)\n",
    "ax3 = plt.subplot(133)\n",
    "\n",
    "fig2.tight_layout()\n",
    "total_applicants = train_normal.shape[0]\n",
    "plot3 = (train_normal[\"Education\"].value_counts()/(total_applicants)*100).plot(kind=\"bar\",ax=ax1)\n",
    "plot3.set_ylabel(\"Percentage of applicants\")\n",
    "#plot1.set_xlabel(\"Education_status\")\n",
    "plot3.set_title(\"Education_status\\n(Normal)\")\n",
    "plot3.set_ylim(0,90)\n",
    "\n",
    "plot4 = (train_normal[\"Self_Employed\"].value_counts()/(total_applicants)*100).plot(kind=\"bar\",ax=ax2)\n",
    "plot4.set_ylabel(\"Percentage of applicants\")\n",
    "#plo2.set_xlabel(\"Employment_status\")\n",
    "plot4.set_title(\"Self_Employed\\n(Normal)\")\n",
    "plot4.set_ylim(0,90)\n",
    "\n",
    "\n",
    "plot3 = (train_normal[\"Property_Area\"].value_counts()*100/train_normal.shape[0]).plot(kind=\"bar\",ax=ax3,title=\"Property Area\\n(Normal)\")\n"
   ]
  },
  {
   "cell_type": "markdown",
   "metadata": {},
   "source": [
    "**Fig 18. Percentage of applicants according to Education, Employment and Property Area in the normal and special group**"
   ]
  },
  {
   "cell_type": "code",
   "execution_count": null,
   "metadata": {
    "collapsed": false
   },
   "outputs": [],
   "source": []
  },
  {
   "cell_type": "markdown",
   "metadata": {},
   "source": [
    "The percentage of graduates is slightly lower in this group, (~ 75%) compared to the normal group, which has over 80% graduates, however, the difference is not very high. The distribution of self-employed vs non self-employed applicants are almost the same. However, in case of property location inside the special group, the majority are now in rural areas  (close to 40%), whereas the semi-urban properties are the least. This is in contrast to the normal group where semi-urban areas formed around 37%, urban areas form about 32%, and rural areas form just over 25%. Thus, there is slightly higher chance of rejection if the property is in rural area, despite having a good credit history. \n",
    "\n",
    "Lastly lets compare the income and loan amounts of this group. For this purpose, it is better to compare the new variable \"DTI\", as that will help us know convey the information contained in applicantincome, co-appliant income and loan amount together."
   ]
  },
  {
   "cell_type": "code",
   "execution_count": 1230,
   "metadata": {
    "collapsed": false
   },
   "outputs": [
    {
     "data": {
      "text/plain": [
       "<matplotlib.text.Text at 0x122e77b70>"
      ]
     },
     "execution_count": 1230,
     "metadata": {},
     "output_type": "execute_result"
    },
    {
     "data": {
      "image/png": "[encoded data removed]",
      "text/plain": [
       "<matplotlib.figure.Figure at 0x128b6a518>"
      ]
     },
     "metadata": {},
     "output_type": "display_data"
    }
   ],
   "source": [
    "calculate_EMI(all_data,8.5)\n",
    "calculate_EMI(train_special,8.5)\n",
    "train_normal[\"DTI\"] = train_normal[\"EMI\"]/(train_normal[\"ApplicantIncome\"]+train_normal[\"CoapplicantIncome\"])\n",
    "train_special[\"DTI\"] = train_special[\"EMI\"]/(train_special[\"ApplicantIncome\"]+train_special[\"CoapplicantIncome\"])\n",
    "fig = plt.figure()\n",
    "ax1 = plt.subplot(121)\n",
    "ax2 = plt.subplot(122)\n",
    "#ax3 = plt.subplot(133)\n",
    "plot1 = sns.boxplot(y=\"DTI\",data=train_normal,ax=ax1)\n",
    "plot2 = sns.boxplot(y=\"DTI\",data=train_special,ax=ax2)\n",
    "plot1.set_ylim(0,1.0)\n",
    "plot2.set_ylim(0,1.0)\n",
    "plot1.set_title(\"Normal Group\")\n",
    "plot2.set_title(\"Special Group\")\n",
    "#sns.boxplot(y=\"LoanAmount\",data=train_special,ax=ax3)\n"
   ]
  },
  {
   "cell_type": "markdown",
   "metadata": {},
   "source": [
    "**Fig 19. Variation of Debt to Income Ratio of the applicants in the normal and special group**"
   ]
  },
  {
   "cell_type": "markdown",
   "metadata": {},
   "source": [
    "Again, there is no significant difference between the Debt to Income ratio of the normal andspecial group, which is interesting since one would expect a considerable difference in this variable to be a reason for the rejection of loan application despite a good credit history.\n",
    "\n",
    "Thus, we see that it is really difficult to point out any significant difference between the two cases, i.e., why for certain cases the loans were rejected despite having a good credit history by observing the composition of the data sets, which also partially explains the difficulty of the algorithms in identifying those cases correctly. Perhaps more advanced algorithms will be able to detect these cases better, or perhpas having more data for the cases in the special group will help us detect the difference properly. In any case, more investigations is required, and what has been done till now does not form a conclusive analysis of the problem. The above models (logistic regression/decision tree/random forest) did achieve an accuracy of ~ 78% on the test set (as suggested by the leaderboard). However, any further improvmement of accuracy needs better prediction of the cases in the special group. Future work should be directed in this direction "
   ]
  },
  {
   "cell_type": "code",
   "execution_count": null,
   "metadata": {
    "collapsed": true
   },
   "outputs": [],
   "source": []
  },
  {
   "cell_type": "code",
   "execution_count": null,
   "metadata": {
    "collapsed": true
   },
   "outputs": [],
   "source": []
  }
 ],
 "metadata": {
  "anaconda-cloud": {},
  "kernelspec": {
   "display_name": "Python [default]",
   "language": "python",
   "name": "python3"
  },
  "language_info": {
   "codemirror_mode": {
    "name": "ipython",
    "version": 3
   },
   "file_extension": ".py",
   "mimetype": "text/x-python",
   "name": "python",
   "nbconvert_exporter": "python",
   "pygments_lexer": "ipython3",
   "version": "3.5.2"
  }
 },
 "nbformat": 4,
 "nbformat_minor": 1
}
